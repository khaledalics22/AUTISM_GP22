{
 "cells": [
  {
   "cell_type": "code",
   "execution_count": 1,
   "id": "64c1891d",
   "metadata": {},
   "outputs": [],
   "source": [
    "import numpy as np \n",
    "from sklearn import svm\n",
    "import sys\n",
    "import matplotlib.pyplot as plt\n",
    "import scipy.stats as stats\n",
    "np.random.seed(10)"
   ]
  },
  {
   "cell_type": "code",
   "execution_count": 2,
   "id": "e35987b9",
   "metadata": {},
   "outputs": [
    {
     "data": {
      "text/plain": [
       "(10, 3)"
      ]
     },
     "execution_count": 2,
     "metadata": {},
     "output_type": "execute_result"
    }
   ],
   "source": [
    "# generate dummy dataset \n",
    "Z = np.random.randint(255, size = (10, 2))\n",
    "Z = np.append(Z, np.random.choice([-1,1],size = (10,1)), axis = 1)\n",
    "Z.shape"
   ]
  },
  {
   "cell_type": "code",
   "execution_count": 3,
   "id": "57e00db5",
   "metadata": {},
   "outputs": [
    {
     "data": {
      "text/plain": [
       "array([ 40, 246,  -1])"
      ]
     },
     "execution_count": 3,
     "metadata": {},
     "output_type": "execute_result"
    }
   ],
   "source": [
    "Z[-1]"
   ]
  },
  {
   "cell_type": "code",
   "execution_count": 4,
   "id": "f2755979",
   "metadata": {},
   "outputs": [
    {
     "data": {
      "text/plain": [
       "<matplotlib.collections.PathCollection at 0x7fa8e5685b80>"
      ]
     },
     "execution_count": 4,
     "metadata": {},
     "output_type": "execute_result"
    },
    {
     "data": {
      "image/png": "[encoded data removed]",
      "text/plain": [
       "<Figure size 432x288 with 1 Axes>"
      ]
     },
     "metadata": {
      "needs_background": "light"
     },
     "output_type": "display_data"
    }
   ],
   "source": [
    "plt.scatter(Z[:,0],Z[:,1], c = Z[:,-1])"
   ]
  },
  {
   "cell_type": "code",
   "execution_count": 5,
   "id": "106a7a3f",
   "metadata": {},
   "outputs": [],
   "source": [
    "# TODO train classifier based on W\n",
    "def learn_model_h(Z, W):\n",
    "    clf = svm.SVC(kernel='linear', probability= True,)\n",
    "    clf.fit(Z[:,:-1], Z[:,-1])\n",
    "    return clf"
   ]
  },
  {
   "cell_type": "code",
   "execution_count": 6,
   "id": "2ab8f956",
   "metadata": {},
   "outputs": [],
   "source": [
    "# update weights according to classifier h_m\n",
    "def update_weights(preds, Y, W):\n",
    "    err = np.sum(W[preds != Y])/ np.sum(W)\n",
    "    if err == 0:\n",
    "        return np.zeros(W.shape)\n",
    "    alpha = 0.5 * np.log((1-err)/err)\n",
    "    W = W * np.exp(-alpha * Y * preds).reshape(W.shape)\n",
    "    \n",
    "    return W/W.sum()\n",
    "    "
   ]
  },
  {
   "cell_type": "code",
   "execution_count": 7,
   "id": "ac97d69e",
   "metadata": {},
   "outputs": [],
   "source": [
    "# error rate of classifier h_m \n",
    "def error_rate(preds, Y):\n",
    "#     print(h_m.predict(Z[:,:-1]))\n",
    "    return np.mean(preds != Y)"
   ]
  },
  {
   "cell_type": "code",
   "execution_count": 8,
   "id": "54c3f748",
   "metadata": {},
   "outputs": [],
   "source": [
    "# calculate total_error rate\n",
    "# ignore classfier at index except i\n",
    "def total_error_rate(H_set, Z, except_i):\n",
    "    # to handle if no h in set preds will not be updated \n",
    "    # and will remain zero which is not correct since it will be assumed\n",
    "    # as predictions and error rate will not be right\n",
    "    if len(H_set) == 0:\n",
    "        return sys.maxsize  \n",
    "    # prediction based on voting of multible h\n",
    "    preds = np.zeros((1,Z.shape[0]))\n",
    "    for i, h in enumerate(H_set):\n",
    "        if except_i != None and i == except_i:\n",
    "            continue\n",
    "        preds = preds + (h.predict(Z[:,:-1])).reshape(preds.shape)  \n",
    "    #calculate error rate of voted prediction    \n",
    "    return error_rate(np.where(preds[0]>0,1,-1),Z[:,-1]) "
   ]
  },
  {
   "cell_type": "code",
   "execution_count": 9,
   "id": "1bf22d0d",
   "metadata": {},
   "outputs": [],
   "source": [
    "# get index of least significan classifier from classifiers set\n",
    "def get_least_significant_h(H_set, Z):\n",
    "    err_list = [total_error_rate(H_set, Z, i) for i in range(len(H_set))]\n",
    "    return np.argmin(err_list)"
   ]
  },
  {
   "cell_type": "code",
   "execution_count": 10,
   "id": "41440f0c",
   "metadata": {},
   "outputs": [],
   "source": [
    "def generate_data_set(Z, W):\n",
    "    idx = np.random.choice(np.arange(0,Z.shape[0], 1),size = Z.shape[0], p = W.flatten())\n",
    "    return Z[idx]"
   ]
  },
  {
   "cell_type": "code",
   "execution_count": 11,
   "id": "507faa66",
   "metadata": {},
   "outputs": [
    {
     "name": "stdout",
     "output_type": "stream",
     "text": [
      "0.1\n",
      "0.0\n"
     ]
    }
   ],
   "source": [
    "# float boost procedure\n",
    "# Z training examples (x1, y1),.....,(xn, yn)\n",
    "# M_max max No. of weak classifiers\n",
    "# E total error rate of Strong classifier\n",
    "# e_star acceptance threshold\n",
    "def FloatBoost(Z, M_max, E, e_star):\n",
    "    N = Z.shape[0]\n",
    "    #initialize weights for each example \n",
    "    #shape N x 1\n",
    "    W = np.ones((N, 1))\n",
    "    pos_idx = [i for i in range(N) if Z[i][-1] == 1]\n",
    "    neg_idx = np.setdiff1d(np.arange(0, N-1, 1), pos_idx)\n",
    "    a = len(pos_idx)\n",
    "    b = N - a \n",
    "    W[pos_idx]= 1/(2*a)\n",
    "    W[neg_idx]= 1/(2*b)\n",
    "    W /= W.sum()\n",
    "    #initialize error rate for each h\n",
    "    e_min = np.array([e_star for i in range(M_max)])\n",
    "    # current No. of h trained\n",
    "    M = -1\n",
    "    # hypothesises set\n",
    "    H_set = []\n",
    "    \n",
    "    # prev total error rate\n",
    "    prev_tot_err_rate = sys.maxsize\n",
    "    \n",
    "    # Forward Inclusion\n",
    "    while True: \n",
    "        M += 1\n",
    "        # TODO edit this function to compute h based on W\n",
    "#         print(W)\n",
    "        \n",
    "        h_m = learn_model_h(Z, W)\n",
    "        #predict values \n",
    "        preds = h_m.predict(Z[:,:-1])\n",
    "        #update weights of examples based on chosen h\n",
    "        W = update_weights(preds, Z[:, -1], W)\n",
    "        \n",
    "        #rate of missclasified points\n",
    "        err_rate = error_rate(preds, Z[:,-1])\n",
    "        \n",
    "#         print(err_rate)\n",
    "        H_set.extend([h_m])\n",
    "        \n",
    "        # update total error rate\n",
    "        new_err_rate = total_error_rate(H_set, Z, None)\n",
    "        if prev_tot_err_rate > new_err_rate :\n",
    "            prev_tot_err_rate = new_err_rate\n",
    "\n",
    "        #Conditional Exclusion\n",
    "        while True:\n",
    "            #get least significant h (removing it causes largest decrease in total error rate)\n",
    "            least_sign_h_idx = get_least_significant_h(H_set, Z)\n",
    "            \n",
    "            temp_err = total_error_rate(H_set,Z, least_sign_h_idx)\n",
    "#             print(temp_err, least_sign_h_idx)\n",
    "            #if least_significant h not useful remove it\n",
    "            if temp_err < prev_tot_err_rate:\n",
    "#                 print(\"remove\")\n",
    "                H_set.remove(H_set[least_sign_h_idx])\n",
    "                prev_tot_err_rate = temp_err\n",
    "                M -= 1\n",
    "            else:\n",
    "#                 print(\"No significant h\")\n",
    "                break\n",
    "        print(prev_tot_err_rate)\n",
    "        # if max h or error rate less than threshold end\n",
    "        if M == M_max or prev_tot_err_rate < e_star:\n",
    "            \n",
    "            break\n",
    "        Z = generate_data_set(Z,W)\n",
    "    return H_set\n",
    "    \n",
    "H_set = FloatBoost(Z, 10, None, 0.005)\n",
    "# print(len(H_set))    "
   ]
  },
  {
   "cell_type": "code",
   "execution_count": 12,
   "id": "4b969dc9",
   "metadata": {},
   "outputs": [],
   "source": [
    "# predict class according to classifiers set of float boost algorithm\n",
    "def predict_fboost(H_set, Z):\n",
    "    preds = np.zeros((1,Z.shape[0]))\n",
    "    for h in H_set:\n",
    "         preds = preds + h.predict(Z[:,:-1])\n",
    "    return 100 * np.mean((np.where(preds[0] > 0, 1, -1) ==  Z[:,-1])), np.where(preds > 0, 1, -1)"
   ]
  },
  {
   "cell_type": "code",
   "execution_count": 13,
   "id": "55c22ae9",
   "metadata": {},
   "outputs": [
    {
     "name": "stdout",
     "output_type": "stream",
     "text": [
      "Number of classifiers selected: 1\n",
      "Total accuracy % 60.0\n"
     ]
    }
   ],
   "source": [
    "acc , preds = predict_fboost(H_set, Z)\n",
    "print(\"Number of classifiers selected:\", len(H_set))\n",
    "print(\"Total accuracy %\", acc)"
   ]
  },
  {
   "cell_type": "code",
   "execution_count": 14,
   "id": "4c6a8da9",
   "metadata": {},
   "outputs": [
    {
     "data": {
      "text/plain": [
       "<matplotlib.collections.PathCollection at 0x7fa8e4dc5580>"
      ]
     },
     "execution_count": 14,
     "metadata": {},
     "output_type": "execute_result"
    },
    {
     "data": {
      "image/png": "[encoded data removed]",
      "text/plain": [
       "<Figure size 432x288 with 1 Axes>"
      ]
     },
     "metadata": {
      "needs_background": "light"
     },
     "output_type": "display_data"
    }
   ],
   "source": [
    "plt.scatter(Z[:,0],Z[:,1], c = preds)"
   ]
  },
  {
   "cell_type": "code",
   "execution_count": 216,
   "id": "5c44b4e0",
   "metadata": {},
   "outputs": [
    {
     "data": {
      "text/plain": [
       "<matplotlib.collections.PathCollection at 0x7fe87390fd00>"
      ]
     },
     "execution_count": 216,
     "metadata": {},
     "output_type": "execute_result"
    },
    {
     "data": {
      "image/png": "[encoded data removed]",
      "text/plain": [
       "<Figure size 432x288 with 1 Axes>"
      ]
     },
     "metadata": {
      "needs_background": "light"
     },
     "output_type": "display_data"
    }
   ],
   "source": [
    "plt.scatter(Z[:,0],Z[:,1], c = Z[:,-1])"
   ]
  },
  {
   "cell_type": "code",
   "execution_count": 217,
   "id": "015cbea5",
   "metadata": {},
   "outputs": [
    {
     "data": {
      "text/plain": [
       "array([[-1,  1, -1,  1,  1,  1, -1, -1,  1, -1]])"
      ]
     },
     "execution_count": 217,
     "metadata": {},
     "output_type": "execute_result"
    }
   ],
   "source": [
    "preds"
   ]
  },
  {
   "cell_type": "code",
   "execution_count": 218,
   "id": "73a45d08",
   "metadata": {},
   "outputs": [
    {
     "data": {
      "text/plain": [
       "array([-1,  1, -1, -1,  1,  1, -1, -1,  1, -1])"
      ]
     },
     "execution_count": 218,
     "metadata": {},
     "output_type": "execute_result"
    }
   ],
   "source": [
    "Z[:,-1]"
   ]
  },
  {
   "cell_type": "code",
   "execution_count": null,
   "id": "7560a350",
   "metadata": {},
   "outputs": [],
   "source": []
  }
 ],
 "metadata": {
  "kernelspec": {
   "display_name": "Python 3 (ipykernel)",
   "language": "python",
   "name": "python3"
  },
  "language_info": {
   "codemirror_mode": {
    "name": "ipython",
    "version": 3
   },
   "file_extension": ".py",
   "mimetype": "text/x-python",
   "name": "python",
   "nbconvert_exporter": "python",
   "pygments_lexer": "ipython3",
   "version": "3.8.12"
  }
 },
 "nbformat": 4,
 "nbformat_minor": 5
}
