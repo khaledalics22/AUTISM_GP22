{
  "nbformat": 4,
  "nbformat_minor": 0,
  "metadata": {
    "colab": {
      "name": "emotion-using face-recognize.ipynb",
      "provenance": [],
      "collapsed_sections": [
        "vuCmxa0g1cDG",
        "GrpyWh9H2KyG"
      ]
    },
    "kernelspec": {
      "name": "python3",
      "display_name": "Python 3"
    },
    "language_info": {
      "name": "python"
    }
  },
  "cells": [
    {
      "cell_type": "markdown",
      "source": [
        "# load data from drive fer2013 plus\n"
      ],
      "metadata": {
        "id": "vRxdRZdZzBPF"
      }
    },
    {
      "cell_type": "code",
      "execution_count": null,
      "metadata": {
        "id": "POUH2E24y5Ci"
      },
      "outputs": [],
      "source": [
        "import pandas as pd\n",
        "import numpy as np\n",
        "from keras.models import Sequential\n",
        "from keras.layers.core import Flatten, Dense, Dropout\n",
        "from keras.layers.convolutional import Convolution2D, MaxPooling2D, ZeroPadding2D\n",
        "from tensorflow.keras.optimizers import SGD\n",
        "import cv2\n",
        "from google.colab.patches import cv2_imshow"
      ]
    },
    {
      "cell_type": "code",
      "source": [
        "#copy from  drive to runtime\n",
        "!cp  /content/drive/MyDrive/GP/emotion_data/fer2013plus/fer2013new.csv  .\n",
        "!cp  /content/drive/MyDrive/GP/emotion_data/fer2013/fer2013.csv .\n",
        "#  0=Angry, 1=Disgust, 2=Fear, 3=Happy, 4=Sad, 5=Surprise, 6=Neutral\n",
        "# neutral, happiness, surprise, sadness, anger, disgust, fear, contempt"
      ],
      "metadata": {
        "id": "c0BdRDeDzS27"
      },
      "execution_count": null,
      "outputs": []
    },
    {
      "cell_type": "code",
      "source": [
        "emotion_data = pd.read_csv('/content/fer2013.csv')\n",
        "emotion_data_new = pd.read_csv('/content/fer2013new.csv')\n",
        "X_train = []\n",
        "y_train = []\n",
        "X_test = []\n",
        "y_test = []\n",
        "emotions=['neutral','happiness','surprise','sadness','anger','disgust','fear','contempt']"
      ],
      "metadata": {
        "id": "6XiZwmZhzTgJ"
      },
      "execution_count": null,
      "outputs": []
    },
    {
      "cell_type": "code",
      "source": [
        "for (index, row), (_, row_n) in zip(emotion_data.iterrows(),emotion_data_new.iterrows()):\n",
        "    k = row['pixels'].split(\" \")\n",
        "    if row_n['Usage'] == 'Training':\n",
        "      for j in range(len(emotions)):\n",
        "        if(row_n[emotions[j]]>=5):\n",
        "          X_train.append(np.array(k))\n",
        "          y_train.append(j)\n",
        "    elif row_n['Usage'] == 'PublicTest':\n",
        "         for j in range(len(emotions)):\n",
        "          if(row_n[emotions[j]]>=5):\n",
        "            X_test.append(np.array(k))\n",
        "            y_test.append(j)"
      ],
      "metadata": {
        "id": "pb8TajKrzZgN"
      },
      "execution_count": null,
      "outputs": []
    },
    {
      "cell_type": "markdown",
      "source": [
        "## code shared"
      ],
      "metadata": {
        "id": "7TGoaWu_CNqF"
      }
    },
    {
      "cell_type": "code",
      "source": [
        "X_train = np.array(X_train)\n",
        "y_train = np.array(y_train)\n",
        "X_test = np.array(X_test)\n",
        "y_test = np.array(y_test)\n",
        "#################################################\n",
        "X_train = X_train.reshape(X_train.shape[0], 48, 48, 1)\n",
        "X_test = X_test.reshape(X_test.shape[0], 48, 48, 1)\n",
        "X_train=X_train.reshape((len(X_train),48,48))\n",
        "X_test=X_test.reshape((len(X_test),48,48))\n",
        "#################################################\n",
        "X_test = X_test.astype(np.float)\n",
        "#y_test = y_test.astype(np.integer)\n",
        "X_train = X_train.astype(np.float)\n",
        "y_train = y_train.astype(np.integer)"
      ],
      "metadata": {
        "colab": {
          "base_uri": "https://localhost:8080/"
        },
        "id": "1XDC1_OSzqaa",
        "outputId": "73e1bf39-3705-4322-f637-112b9fef70ae"
      },
      "execution_count": null,
      "outputs": [
        {
          "output_type": "stream",
          "name": "stderr",
          "text": [
            "/usr/local/lib/python3.7/dist-packages/ipykernel_launcher.py:11: DeprecationWarning: `np.float` is a deprecated alias for the builtin `float`. To silence this warning, use `float` by itself. Doing this will not modify any behavior and is safe. If you specifically wanted the numpy scalar type, use `np.float64` here.\n",
            "Deprecated in NumPy 1.20; for more details and guidance: https://numpy.org/devdocs/release/1.20.0-notes.html#deprecations\n",
            "  # This is added back by InteractiveShellApp.init_path()\n",
            "/usr/local/lib/python3.7/dist-packages/ipykernel_launcher.py:13: DeprecationWarning: `np.float` is a deprecated alias for the builtin `float`. To silence this warning, use `float` by itself. Doing this will not modify any behavior and is safe. If you specifically wanted the numpy scalar type, use `np.float64` here.\n",
            "Deprecated in NumPy 1.20; for more details and guidance: https://numpy.org/devdocs/release/1.20.0-notes.html#deprecations\n",
            "  del sys.path[0]\n",
            "/usr/local/lib/python3.7/dist-packages/ipykernel_launcher.py:14: DeprecationWarning: Converting `np.integer` or `np.signedinteger` to a dtype is deprecated. The current result is `np.dtype(np.int_)` which is not strictly correct. Note that the result depends on the system. To ensure stable results use may want to use `np.int64` or `np.int32`.\n",
            "  \n"
          ]
        }
      ]
    },
    {
      "cell_type": "code",
      "source": [
        "for i in range(20):\n",
        "  t=np.random.randint(0,18000)\n",
        "  cv2_imshow(X_train[t])\n",
        "  print(t)"
      ],
      "metadata": {
        "colab": {
          "base_uri": "https://localhost:8080/",
          "height": 1000
        },
        "id": "xhM7XRGEzrSf",
        "outputId": "31357bc5-458f-41c3-c5ae-b118a89b29a8"
      },
      "execution_count": null,
      "outputs": [
        {
          "output_type": "display_data",
          "data": {
            "text/plain": [
              "<PIL.Image.Image image mode=L size=48x48 at 0x7F0C553EF890>"
            ],
            "image/png": "[encoded data removed]"
          },
          "metadata": {}
        },
        {
          "output_type": "stream",
          "name": "stdout",
          "text": [
            "1169\n"
          ]
        },
        {
          "output_type": "display_data",
          "data": {
            "text/plain": [
              "<PIL.Image.Image image mode=L size=48x48 at 0x7F0C57C351D0>"
            ],
            "image/png": "[encoded data removed]"
          },
          "metadata": {}
        },
        {
          "output_type": "stream",
          "name": "stdout",
          "text": [
            "10229\n"
          ]
        },
        {
          "output_type": "display_data",
          "data": {
            "text/plain": [
              "<PIL.Image.Image image mode=L size=48x48 at 0x7F0C553EF890>"
            ],
            "image/png": "[encoded data removed]"
          },
          "metadata": {}
        },
        {
          "output_type": "stream",
          "name": "stdout",
          "text": [
            "8499\n"
          ]
        },
        {
          "output_type": "display_data",
          "data": {
            "text/plain": [
              "<PIL.Image.Image image mode=L size=48x48 at 0x7F0C57E2BA90>"
            ],
            "image/png": "[encoded data removed]"
          },
          "metadata": {}
        },
        {
          "output_type": "stream",
          "name": "stdout",
          "text": [
            "14997\n"
          ]
        },
        {
          "output_type": "display_data",
          "data": {
            "text/plain": [
              "<PIL.Image.Image image mode=L size=48x48 at 0x7F0C57E2B690>"
            ],
            "image/png": "[encoded data removed]"
          },
          "metadata": {}
        },
        {
          "output_type": "stream",
          "name": "stdout",
          "text": [
            "9292\n"
          ]
        },
        {
          "output_type": "display_data",
          "data": {
            "text/plain": [
              "<PIL.Image.Image image mode=L size=48x48 at 0x7F0C57E2BB90>"
            ],
            "image/png": "[encoded data removed]"
          },
          "metadata": {}
        },
        {
          "output_type": "stream",
          "name": "stdout",
          "text": [
            "12038\n"
          ]
        },
        {
          "output_type": "display_data",
          "data": {
            "text/plain": [
              "<PIL.Image.Image image mode=L size=48x48 at 0x7F0C57E2BE10>"
            ],
            "image/png": "[encoded data removed]"
          },
          "metadata": {}
        },
        {
          "output_type": "stream",
          "name": "stdout",
          "text": [
            "1698\n"
          ]
        },
        {
          "output_type": "display_data",
          "data": {
            "text/plain": [
              "<PIL.Image.Image image mode=L size=48x48 at 0x7F0C57E2B790>"
            ],
            "image/png": "[encoded data removed]"
          },
          "metadata": {}
        },
        {
          "output_type": "stream",
          "name": "stdout",
          "text": [
            "7899\n"
          ]
        },
        {
          "output_type": "display_data",
          "data": {
            "text/plain": [
              "<PIL.Image.Image image mode=L size=48x48 at 0x7F0C57E2BBD0>"
            ],
            "image/png": "[encoded data removed]"
          },
          "metadata": {}
        },
        {
          "output_type": "stream",
          "name": "stdout",
          "text": [
            "14733\n"
          ]
        },
        {
          "output_type": "display_data",
          "data": {
            "text/plain": [
              "<PIL.Image.Image image mode=L size=48x48 at 0x7F0C576BACD0>"
            ],
            "image/png": "[encoded data removed]"
          },
          "metadata": {}
        },
        {
          "output_type": "stream",
          "name": "stdout",
          "text": [
            "17723\n"
          ]
        },
        {
          "output_type": "display_data",
          "data": {
            "text/plain": [
              "<PIL.Image.Image image mode=L size=48x48 at 0x7F0C57E2BDD0>"
            ],
            "image/png": "[encoded data removed]"
          },
          "metadata": {}
        },
        {
          "output_type": "stream",
          "name": "stdout",
          "text": [
            "7849\n"
          ]
        },
        {
          "output_type": "display_data",
          "data": {
            "text/plain": [
              "<PIL.Image.Image image mode=L size=48x48 at 0x7F0C57E2BB50>"
            ],
            "image/png": "[encoded data removed]"
          },
          "metadata": {}
        },
        {
          "output_type": "stream",
          "name": "stdout",
          "text": [
            "17999\n"
          ]
        },
        {
          "output_type": "display_data",
          "data": {
            "text/plain": [
              "<PIL.Image.Image image mode=L size=48x48 at 0x7F0C57E2BB10>"
            ],
            "image/png": "[encoded data removed]"
          },
          "metadata": {}
        },
        {
          "output_type": "stream",
          "name": "stdout",
          "text": [
            "3087\n"
          ]
        },
        {
          "output_type": "display_data",
          "data": {
            "text/plain": [
              "<PIL.Image.Image image mode=L size=48x48 at 0x7F0C57FC4950>"
            ],
            "image/png": "[encoded data removed]"
          },
          "metadata": {}
        },
        {
          "output_type": "stream",
          "name": "stdout",
          "text": [
            "4312\n"
          ]
        },
        {
          "output_type": "display_data",
          "data": {
            "text/plain": [
              "<PIL.Image.Image image mode=L size=48x48 at 0x7F0C57FC4650>"
            ],
            "image/png": "[encoded data removed]"
          },
          "metadata": {}
        },
        {
          "output_type": "stream",
          "name": "stdout",
          "text": [
            "9365\n"
          ]
        },
        {
          "output_type": "display_data",
          "data": {
            "text/plain": [
              "<PIL.Image.Image image mode=L size=48x48 at 0x7F0C57FC44D0>"
            ],
            "image/png": "[encoded data removed]"
          },
          "metadata": {}
        },
        {
          "output_type": "stream",
          "name": "stdout",
          "text": [
            "15767\n"
          ]
        },
        {
          "output_type": "display_data",
          "data": {
            "text/plain": [
              "<PIL.Image.Image image mode=L size=48x48 at 0x7F0C57FC4AD0>"
            ],
            "image/png": "[encoded data removed]"
          },
          "metadata": {}
        },
        {
          "output_type": "stream",
          "name": "stdout",
          "text": [
            "11023\n"
          ]
        },
        {
          "output_type": "display_data",
          "data": {
            "text/plain": [
              "<PIL.Image.Image image mode=L size=48x48 at 0x7F0C568AD2D0>"
            ],
            "image/png": "[encoded data removed]"
          },
          "metadata": {}
        },
        {
          "output_type": "stream",
          "name": "stdout",
          "text": [
            "14035\n"
          ]
        },
        {
          "output_type": "display_data",
          "data": {
            "text/plain": [
              "<PIL.Image.Image image mode=L size=48x48 at 0x7F0C568AD750>"
            ],
            "image/png": "[encoded data removed]"
          },
          "metadata": {}
        },
        {
          "output_type": "stream",
          "name": "stdout",
          "text": [
            "2465\n"
          ]
        },
        {
          "output_type": "display_data",
          "data": {
            "text/plain": [
              "<PIL.Image.Image image mode=L size=48x48 at 0x7F0C568ADA10>"
            ],
            "image/png": "[encoded data removed]"
          },
          "metadata": {}
        },
        {
          "output_type": "stream",
          "name": "stdout",
          "text": [
            "4409\n"
          ]
        }
      ]
    },
    {
      "cell_type": "code",
      "source": [
        "import matplotlib.pyplot as plt\n",
        "weights=[[0,1,1,1,1,0]\n",
        "   ,[2,2,2,2,2,2]\n",
        "   ,[2,4,4,4,4,2]\n",
        "   ,[1,1,2,2,1,1]\n",
        "   ,[1,2,4,4,2,1]\n",
        "   ,[0,1,2,2,1,0]]\n",
        "f, axarr = plt.subplots(6,6)\n",
        "for i in range(6):\n",
        "  for j in range(6):\n",
        "    axarr[i,j].imshow(X_train[5][2:-2][2:-2][i*6:(i+1)*6,j*6:(j+1)*6]*weights[i][j],cmap='gray', vmin=0, vmax=4*255)\n",
        "    axarr[i,j].axis('off')\n",
        "plt.show() \n",
        "\n",
        "x=np.ones((36,36))\n",
        "for i in range(6):\n",
        "  for j in range(6):\n",
        "    x[i*6:(i+1)*6,j*6:(j+1)*6]=X_train[7899][2:-2][2:-2][i*6:(i+1)*6,j*6:(j+1)*6]*weights[i][j]\n",
        "    x[:,j*6]=0\n",
        "    x[i*6,:]=0\n",
        "\n",
        "plt.imshow(x,cmap='gray', vmin=0, vmax=4*255)\n",
        "plt.axis('off')\n",
        "plt.show() "
      ],
      "metadata": {
        "colab": {
          "base_uri": "https://localhost:8080/",
          "height": 479
        },
        "id": "Z2UfQGTM1yOY",
        "outputId": "1ef85dfd-90fb-4893-d0c8-5ad1a48b3812"
      },
      "execution_count": null,
      "outputs": [
        {
          "output_type": "display_data",
          "data": {
            "text/plain": [
              "<Figure size 432x288 with 36 Axes>"
            ],
            "image/png": "[encoded data removed]"
          },
          "metadata": {
            "needs_background": "light"
          }
        },
        {
          "output_type": "display_data",
          "data": {
            "text/plain": [
              "<Figure size 432x288 with 1 Axes>"
            ],
            "image/png": "[encoded data removed]"
          },
          "metadata": {
            "needs_background": "light"
          }
        }
      ]
    },
    {
      "cell_type": "markdown",
      "source": [
        "# models to train"
      ],
      "metadata": {
        "id": "obcDlkVry8_s"
      }
    },
    {
      "cell_type": "markdown",
      "source": [
        "## model-1 fisher face"
      ],
      "metadata": {
        "id": "G8GdMFIi0LLm"
      }
    },
    {
      "cell_type": "markdown",
      "source": [
        "### train data"
      ],
      "metadata": {
        "id": "qL-X5ky_0VVe"
      }
    },
    {
      "cell_type": "code",
      "source": [
        "fishface = cv2.face.FisherFaceRecognizer_create() #Initialize fisher face classifier\n",
        "print( \"training fisher face classifier\")\n",
        "print (\"size of training set is:\", len(y_train), \"images\")\n",
        "fishface.train(X_train, np.asarray(y_train))\n"
      ],
      "metadata": {
        "id": "XBP3mk7i0Kd3",
        "colab": {
          "base_uri": "https://localhost:8080/"
        },
        "outputId": "48f64fcd-40df-4d75-99ba-c11a041900b5"
      },
      "execution_count": null,
      "outputs": [
        {
          "output_type": "stream",
          "name": "stdout",
          "text": [
            "training fisher face classifier\n",
            "size of training set is: 51450 images\n"
          ]
        }
      ]
    },
    {
      "cell_type": "markdown",
      "source": [
        "### test data"
      ],
      "metadata": {
        "id": "rVyz4RYK0YXl"
      }
    },
    {
      "cell_type": "code",
      "source": [
        "print (\"predicting classification set\")\n",
        "cnt = 0\n",
        "correct = 0\n",
        "incorrect = 0\n",
        "for image in X_test:\n",
        "    pred, conf = fishface.predict(image)\n",
        "    if pred == y_test[cnt]:\n",
        "        correct += 1\n",
        "        cnt += 1\n",
        "    else:\n",
        "        incorrect += 1\n",
        "        cnt += 1\n",
        "print(correct,incorrect,((100*correct)/(correct + incorrect)))"
      ],
      "metadata": {
        "id": "NvFgi-Zm0mBl",
        "colab": {
          "base_uri": "https://localhost:8080/"
        },
        "outputId": "f6eacff7-769b-402e-d7e3-cb6a125581a3"
      },
      "execution_count": null,
      "outputs": [
        {
          "output_type": "stream",
          "name": "stdout",
          "text": [
            "predicting classification set\n",
            "1423 5430 20.76462862979717\n"
          ]
        }
      ]
    },
    {
      "cell_type": "markdown",
      "source": [
        "### save model"
      ],
      "metadata": {
        "id": "I_vejSnu0bQy"
      }
    },
    {
      "cell_type": "code",
      "source": [
        "name = input(\"Enter the model time_test-data-name-any need\")\n",
        "fishface.save(\"/content/drive/MyDrive/GP/emotion_data/fishface\"+name+\".model\")"
      ],
      "metadata": {
        "id": "e5XxeP9s0qyg"
      },
      "execution_count": null,
      "outputs": []
    },
    {
      "cell_type": "markdown",
      "source": [
        "### test one image"
      ],
      "metadata": {
        "id": "R7BFdW1p0fEh"
      }
    },
    {
      "cell_type": "markdown",
      "source": [
        "## model-2 Eign face"
      ],
      "metadata": {
        "id": "vuCmxa0g1cDG"
      }
    },
    {
      "cell_type": "markdown",
      "source": [
        "### train data"
      ],
      "metadata": {
        "id": "3FGrHl441cDH"
      }
    },
    {
      "cell_type": "code",
      "source": [
        "EigenFace = cv2.face.EigenFaceRecognizer_create() #Initialize Eigen Face classifier\n",
        "print( \"training Eigen Face classifier\")\n",
        "print (\"size of training set is:\", len(y_train), \"images\")\n",
        "EigenFace.train(X_train, np.asarray(y_train))\n",
        "\n",
        "# take 30 min"
      ],
      "metadata": {
        "id": "KCw4SnyW1cDH"
      },
      "execution_count": null,
      "outputs": []
    },
    {
      "cell_type": "markdown",
      "source": [
        "### test data"
      ],
      "metadata": {
        "id": "l06tYF0f1cDI"
      }
    },
    {
      "cell_type": "code",
      "source": [
        "print (\"predicting classification set\")\n",
        "cnt = 0\n",
        "correct = 0\n",
        "incorrect = 0\n",
        "for image in X_test:\n",
        "    pred, conf = EigenFace.predict(image)\n",
        "    if pred == y_test[cnt]:\n",
        "        correct += 1\n",
        "        cnt += 1\n",
        "    else:\n",
        "        incorrect += 1\n",
        "        cnt += 1\n",
        "print(correct,incorrect,((100*correct)/(correct + incorrect)))"
      ],
      "metadata": {
        "id": "4ozNcIPq1cDI"
      },
      "execution_count": null,
      "outputs": []
    },
    {
      "cell_type": "markdown",
      "source": [
        "### save model"
      ],
      "metadata": {
        "id": "2-x9j9p31cDJ"
      }
    },
    {
      "cell_type": "code",
      "source": [
        "name = input(\"Enter the model time_test-data-name-any need\")\n",
        "EigenFace.save(\"/content/drive/MyDrive/GP/emotion_data/EigenFace\"+name+\".model\")"
      ],
      "metadata": {
        "id": "E1Xw9S4K1cDJ"
      },
      "execution_count": null,
      "outputs": []
    },
    {
      "cell_type": "markdown",
      "source": [
        "### test one image"
      ],
      "metadata": {
        "id": "vJDOTc8f1cDJ"
      }
    },
    {
      "cell_type": "markdown",
      "source": [
        "## model-3 LBPH"
      ],
      "metadata": {
        "id": "GrpyWh9H2KyG"
      }
    },
    {
      "cell_type": "markdown",
      "source": [
        "### train data"
      ],
      "metadata": {
        "id": "7VN0sKyF2KyJ"
      }
    },
    {
      "cell_type": "code",
      "source": [
        "LBPH = cv2.face.LBPHFaceRecognizer_create(3) #Initialize LBPH face classifier\n",
        "print( \"training LBPH face classifier\")\n",
        "print (\"size of training set is:\", len(y_train), \"images\")\n",
        "LBPH.train(X_train, np.asarray(y_train))\n"
      ],
      "metadata": {
        "id": "4ZCJTnKp2KyJ"
      },
      "execution_count": null,
      "outputs": []
    },
    {
      "cell_type": "code",
      "source": [
        ""
      ],
      "metadata": {
        "id": "OTxRJMlq9jWU"
      },
      "execution_count": null,
      "outputs": []
    },
    {
      "cell_type": "markdown",
      "source": [
        "### test data"
      ],
      "metadata": {
        "id": "46nc_BLC2KyK"
      }
    },
    {
      "cell_type": "code",
      "source": [
        "cnt = 0\n",
        "correct = 0\n",
        "incorrect = 0\n",
        "for image in X_test:\n",
        "    pred, conf = LBPH.predict(image)\n",
        "    if np.any(np.array(y_test[cnt])==pred):\n",
        "        correct += 1\n",
        "        cnt += 1\n",
        "    else:\n",
        "        incorrect += 1\n",
        "        cnt += 1\n",
        "print(correct,incorrect,((100*correct)/(correct + incorrect)))"
      ],
      "metadata": {
        "id": "Tkjy9wjf2KyK"
      },
      "execution_count": null,
      "outputs": []
    },
    {
      "cell_type": "markdown",
      "source": [
        "### save model"
      ],
      "metadata": {
        "id": "GvKsXZt52KyK"
      }
    },
    {
      "cell_type": "code",
      "source": [
        "name = input(\"Enter the model time_test-data-name-any need\")\n",
        "LBPH.save(\"/content/drive/MyDrive/GP/emotion_data/LBPH\"+name+\".model\")"
      ],
      "metadata": {
        "id": "H72v-0Kc2KyL"
      },
      "execution_count": null,
      "outputs": []
    },
    {
      "cell_type": "markdown",
      "source": [
        "### test one image"
      ],
      "metadata": {
        "id": "Hqxi-NOO2KyL"
      }
    }
  ]
}