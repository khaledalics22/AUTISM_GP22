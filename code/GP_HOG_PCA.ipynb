{
 "cells": [
  {
   "cell_type": "code",
   "execution_count": 1,
   "metadata": {},
   "outputs": [],
   "source": [
    "import cv2\n",
    "import numpy as np\n",
    "import imageio as io\n",
    "from sklearn.neighbors import KNeighborsClassifier\n",
    "from sklearn.preprocessing import normalize,StandardScaler\n",
    "import numpy as np\n",
    "import os\n",
    "import random\n",
    "from sklearn.model_selection import train_test_split\n",
    "import skimage.io as io\n",
    "from skimage.feature import local_binary_pattern\n",
    "from skimage import color\n",
    "from operator import eq\n",
    "from sklearn import preprocessing\n",
    "from sklearn.metrics import accuracy_score\n",
    "from sklearn.metrics import classification_report\n",
    "from sklearn.metrics import confusion_matrix\n",
    "import pandas as pd"
   ]
  },
  {
   "cell_type": "code",
   "execution_count": 2,
   "metadata": {},
   "outputs": [],
   "source": [
    "random_seed = 0  \n",
    "random.seed(random_seed)\n",
    "np.random.seed(random_seed)"
   ]
  },
  {
   "cell_type": "code",
   "execution_count": 3,
   "metadata": {},
   "outputs": [],
   "source": [
    "def extract_hog_features(img):\n",
    "\n",
    "    img=color.rgb2gray(img)\n",
    "    img = img.astype(int)\n",
    "\n",
    "    target_img_size = (78, 78)\n",
    "    img = cv2.resize(img.astype('uint8'), target_img_size)\n",
    "    win_size = (64, 64)\n",
    "    cell_size = (8, 8)\n",
    "    block_size_in_cells = (2, 2)\n",
    "\n",
    "    block_size = (block_size_in_cells[1] * cell_size[1],\n",
    "                  block_size_in_cells[0] * cell_size[0])\n",
    "    block_stride = (cell_size[1], cell_size[0])\n",
    "    nbins = 15  # Number of orientation bins\n",
    "    hog = cv2.HOGDescriptor(win_size, block_size,\n",
    "                            block_stride, cell_size, nbins)\n",
    "    h = hog.compute(img)\n",
    "    h = h.flatten()\n",
    "    return h.flatten()"
   ]
  },
  {
   "cell_type": "code",
   "execution_count": 4,
   "metadata": {},
   "outputs": [],
   "source": [
    "# img  = io.imread('S010_006_00000013.png')\n",
    "# gray=color.rgb2gray(img)\n",
    "# f=extract_hog_features(gray)\n",
    "# print(np.array(f).shape )\n"
   ]
  },
  {
   "cell_type": "code",
   "execution_count": 5,
   "metadata": {},
   "outputs": [],
   "source": [
    "# def extract_features(img):\n",
    "#     return extract_hog_features(img) "
   ]
  },
  {
   "cell_type": "code",
   "execution_count": 6,
   "metadata": {},
   "outputs": [],
   "source": [
    "def load_dataset():\n",
    "    features = []\n",
    "    labels = []\n",
    "    for i, fn in enumerate(img_filenames):\n",
    "            label = fn.split('.')[0]\n",
    "            path = os.path.join(path_to_dataset, fn)\n",
    "            subpath=os.listdir(path)\n",
    "            for k, d in enumerate(subpath):             \n",
    "                labels.append(label)\n",
    "                imgpath = os.path.join(path, d)\n",
    "                img = io.imread(imgpath)\n",
    "                gray=color.rgb2gray(img)\n",
    "                features.append(extract_hog_features(gray))\n",
    "                if k > 0 and k % 100== 0:\n",
    "                    print(\"[INFO] processed {}/{}\".format(k, len(subpath)))\n",
    "    return features, labels            "
   ]
  },
  {
   "cell_type": "code",
   "execution_count": 7,
   "metadata": {},
   "outputs": [],
   "source": [
    "def split_data(features,labels,precentage):\n",
    "    train_features, test_features, train_labels, test_labels = train_test_split(\n",
    "        features, labels, test_size=0.2, random_state=random_seed)\n",
    "    return train_features, test_features, train_labels, test_labels"
   ]
  },
  {
   "cell_type": "code",
   "execution_count": 8,
   "metadata": {},
   "outputs": [],
   "source": [
    "def KNN_classifier(kcount,train_features, train_labels):\n",
    "    classifier = KNeighborsClassifier(n_neighbors=kcount)\n",
    "    classifier.fit(list(train_features),list(train_labels) )\n",
    "    return classifier"
   ]
  },
  {
   "cell_type": "code",
   "execution_count": 9,
   "metadata": {},
   "outputs": [],
   "source": [
    "# path_to_dataset =r'D:\\Download\\jaffedbase'\n",
    "# path_to_dataset =r'E:\\datasetemotion\\val\\val'\n",
    "path_to_dataset =r'E:\\emotion\\archive\\ck\\CK+48'\n",
    "img_filenames = os.listdir(path_to_dataset)"
   ]
  },
  {
   "cell_type": "code",
   "execution_count": 10,
   "metadata": {},
   "outputs": [
    {
     "name": "stdout",
     "output_type": "stream",
     "text": [
      "['anger', 'contempt', 'disgust', 'fear', 'happy', 'sadness', 'surprise']\n"
     ]
    }
   ],
   "source": [
    "img_filenames = os.listdir(path_to_dataset)\n",
    "print(img_filenames)"
   ]
  },
  {
   "cell_type": "code",
   "execution_count": 11,
   "metadata": {},
   "outputs": [],
   "source": [
    "random_seed = 0  \n",
    "random.seed(random_seed)\n",
    "np.random.seed(random_seed)"
   ]
  },
  {
   "cell_type": "code",
   "execution_count": 12,
   "metadata": {},
   "outputs": [
    {
     "name": "stdout",
     "output_type": "stream",
     "text": [
      "Loading dataset. This will take time ...\n",
      "[INFO] processed 100/135\n",
      "[INFO] processed 100/177\n",
      "[INFO] processed 100/207\n",
      "[INFO] processed 200/207\n",
      "[INFO] processed 100/249\n",
      "[INFO] processed 200/249\n",
      "Finished loading dataset.\n"
     ]
    }
   ],
   "source": [
    "print('Loading dataset. This will take time ...')\n",
    "features, labels = load_dataset()\n",
    "print('Finished loading dataset.')"
   ]
  },
  {
   "cell_type": "code",
   "execution_count": 13,
   "metadata": {},
   "outputs": [],
   "source": [
    "fg=features\n",
    "lg=labels"
   ]
  },
  {
   "cell_type": "code",
   "execution_count": 14,
   "metadata": {},
   "outputs": [],
   "source": [
    "train_features, test_features, train_labels, test_labels=split_data(fg,lg,0.2)\n"
   ]
  },
  {
   "cell_type": "code",
   "execution_count": 15,
   "metadata": {},
   "outputs": [
    {
     "name": "stdout",
     "output_type": "stream",
     "text": [
      "(784, 11760)\n"
     ]
    }
   ],
   "source": [
    "print(np.array(train_features).shape)"
   ]
  },
  {
   "cell_type": "code",
   "execution_count": 16,
   "metadata": {},
   "outputs": [],
   "source": [
    "from sklearn.decomposition import PCA\n",
    "\n",
    "pca = PCA(n_components=0.7)\n",
    "X_train1 = pca.fit_transform(train_features)\n",
    "X_test1 = pca.transform(test_features)\n"
   ]
  },
  {
   "cell_type": "code",
   "execution_count": 17,
   "metadata": {},
   "outputs": [],
   "source": [
    "train_features=X_train1\n",
    "test_features=X_test1"
   ]
  },
  {
   "cell_type": "code",
   "execution_count": 18,
   "metadata": {},
   "outputs": [
    {
     "name": "stdout",
     "output_type": "stream",
     "text": [
      "test 96.44670050761421\n",
      "train 99.23469387755102\n"
     ]
    }
   ],
   "source": [
    "from sklearn.metrics.pairwise import rbf_kernel\n",
    "le = preprocessing.LabelEncoder()\n",
    "random_seed = 0  \n",
    "random.seed(random_seed)\n",
    "np.random.seed(random_seed)\n",
    "sigma=0.0008\n",
    "c=64\n",
    "reg=100\n",
    "err=1e-4\n",
    "def kernel(X, Y=None,g=None):\n",
    "    k=rbf_kernel(X, Y, gamma=g)\n",
    "    return k\n",
    "def KELM_Beta(sigma,c,x,y):\n",
    "    le.fit(y)\n",
    "    y = le.transform(y)\n",
    "    emotion = len(np.unique(y))\n",
    "    One_Hot_Encoding=np.zeros((emotion,emotion), np.uint8)\n",
    "    for em in range (emotion):\n",
    "        One_Hot_Encoding[em][em]=1\n",
    "    T = One_Hot_Encoding[y, :]    \n",
    "    N,d=x.shape\n",
    "    Omega=kernel(x,None,sigma)\n",
    "    I=np.eye(N)\n",
    "    Beta = np.linalg.inv((I /c) + Omega).dot(T)    \n",
    "    return Beta,One_Hot_Encoding\n",
    "def KELM_Output(sigma,x,x_test,Beta,One_Hot_Encoding):\n",
    "    hx=kernel(x_test,x,sigma)\n",
    "    fx= hx.dot(Beta)\n",
    "#     print(np.array(fx).shape)\n",
    "    p=np.argmax(fx,axis=1)\n",
    "    return p\n",
    "def acc(y_pred,test_labels):\n",
    "    le = preprocessing.LabelEncoder()\n",
    "    yt = le.fit_transform(y_pred)    \n",
    "    rt = le.fit_transform(test_labels)\n",
    "    eqw = sum(map(eq, list(rt), list(y_pred)))\n",
    "    size=len(rt)\n",
    "    acc=(eqw/size)*100\n",
    "    return acc\n",
    "Beta,One_Hot_Encoding=KELM_Beta(sigma,c,np.array(train_features),np.array(train_labels))\n",
    "p1=KELM_Output(sigma,np.array(train_features),np.array(test_features),Beta,One_Hot_Encoding)\n",
    "print(\"test\",acc(p1,test_labels))\n",
    "\n",
    "p2=KELM_Output(sigma,np.array(train_features),np.array(train_features),Beta,One_Hot_Encoding)\n",
    "print(\"train\",acc(p2,train_labels))"
   ]
  },
  {
   "cell_type": "code",
   "execution_count": 19,
   "metadata": {},
   "outputs": [
    {
     "name": "stdout",
     "output_type": "stream",
     "text": [
      "(197, 64)\n"
     ]
    }
   ],
   "source": [
    "print(np.array(X_test1).shape)"
   ]
  },
  {
   "cell_type": "code",
   "execution_count": 20,
   "metadata": {},
   "outputs": [],
   "source": [
    "#SVM"
   ]
  },
  {
   "cell_type": "code",
   "execution_count": 21,
   "metadata": {},
   "outputs": [
    {
     "name": "stdout",
     "output_type": "stream",
     "text": [
      "Test score 98.47715736040608\n",
      "Train score 99.74489795918367\n"
     ]
    }
   ],
   "source": [
    "from sklearn.svm import SVC\n",
    "k='rbf'\n",
    "gamma = 'scale'\n",
    "c=200\n",
    "# clf = SVC(C=c,kernel=k,gamma=gamma)\n",
    "clf = SVC()\n",
    "\n",
    "clf.fit(X_train1, train_labels)\n",
    "ypred=clf.predict(X_test1)\n",
    "print ('Test score', clf.score(X_test1, test_labels)*100 )\n",
    "print ('Train score', clf.score(X_train1, train_labels)*100 )\n",
    "\n",
    "# Test score 98.47715736040608\n",
    "# Train score 99.74489795918367\n"
   ]
  },
  {
   "cell_type": "code",
   "execution_count": 22,
   "metadata": {},
   "outputs": [],
   "source": [
    "# import joblib\n",
    "# joblib.dump(clf, 'PCASVM.pkl')\n"
   ]
  },
  {
   "cell_type": "code",
   "execution_count": 23,
   "metadata": {},
   "outputs": [
    {
     "name": "stdout",
     "output_type": "stream",
     "text": [
      "0.9847715736040609\n",
      "              precision    recall  f1-score   support\n",
      "\n",
      "       anger       1.00      1.00      1.00        20\n",
      "    contempt       0.75      1.00      0.86         6\n",
      "     disgust       1.00      1.00      1.00        41\n",
      "        fear       1.00      0.93      0.97        15\n",
      "       happy       1.00      1.00      1.00        39\n",
      "     sadness       1.00      0.91      0.95        22\n",
      "    surprise       0.98      1.00      0.99        54\n",
      "\n",
      "    accuracy                           0.98       197\n",
      "   macro avg       0.96      0.98      0.97       197\n",
      "weighted avg       0.99      0.98      0.99       197\n",
      "\n",
      "[[20  0  0  0  0  0  0]\n",
      " [ 0  6  0  0  0  0  0]\n",
      " [ 0  0 41  0  0  0  0]\n",
      " [ 0  0  0 14  0  0  1]\n",
      " [ 0  0  0  0 39  0  0]\n",
      " [ 0  2  0  0  0 20  0]\n",
      " [ 0  0  0  0  0  0 54]]\n"
     ]
    }
   ],
   "source": [
    "# print(test_labels)\n",
    "print(accuracy_score(test_labels, ypred))\n",
    "print(classification_report(test_labels, ypred))\n",
    "print(confusion_matrix(test_labels, ypred))"
   ]
  },
  {
   "cell_type": "code",
   "execution_count": 24,
   "metadata": {},
   "outputs": [],
   "source": [
    "#Test(New img)"
   ]
  },
  {
   "cell_type": "code",
   "execution_count": 25,
   "metadata": {},
   "outputs": [],
   "source": [
    "# from sklearn.decomposition import PCA\n",
    "# # img = io.imread('MK.SU1.122.tiff')\n",
    "# img = io.imread('S010_006_00000013.png')\n",
    "# # /happy\n",
    "# # img = io.imread('MK.HA1.116.tiff')\n",
    "# # /angry\n",
    "# # img = io.imread('KA.AN3.41.tiff')\n",
    "# # /sad\n",
    "# # img = io.imread('KA.SA1.33.tiff')\n",
    "# # img = io.imread('data.png')\n",
    "\n",
    "# # img  = io.imread('KA.AN2.40.tiff')\n",
    "# # img  = io.imread('MK.HA1.116.tiff')\n",
    "# # img  = io.imread('UY.DI2.150.tiff')\n",
    "\n",
    "# # img = io.imread('p1.jpg')\n",
    "\n",
    "# f=extract_features(img)\n",
    "# fp= pca.transform([f])\n",
    "# # print(f)\n",
    "# # print(fp)\n",
    "\n",
    "# print ('pred label', clf.predict(fp) )"
   ]
  },
  {
   "cell_type": "code",
   "execution_count": 26,
   "metadata": {},
   "outputs": [],
   "source": [
    "#KNN"
   ]
  },
  {
   "cell_type": "code",
   "execution_count": 27,
   "metadata": {},
   "outputs": [],
   "source": [
    "classifier=KNN_classifier(3,X_train1, train_labels)\n"
   ]
  },
  {
   "cell_type": "code",
   "execution_count": 28,
   "metadata": {},
   "outputs": [],
   "source": [
    "y_pred = classifier.predict(X_test1 )"
   ]
  },
  {
   "cell_type": "code",
   "execution_count": 29,
   "metadata": {},
   "outputs": [
    {
     "name": "stdout",
     "output_type": "stream",
     "text": [
      "Test accuracy: 81.21827411167513 %\n",
      "Train accuracy: 97.83163265306123 %\n"
     ]
    }
   ],
   "source": [
    "accuracy = classifier.score(X_test1, test_labels)\n",
    "print('Test accuracy:', accuracy*100, '%')\n",
    "accuracy = classifier.score(X_train1, train_labels)\n",
    "print('Train accuracy:', accuracy*100, '%')\n",
    "# Test accuracy: 81.7258883248731 %\n",
    "# Train accuracy: 97.95918367346938 %\n",
    "    "
   ]
  },
  {
   "cell_type": "code",
   "execution_count": 30,
   "metadata": {},
   "outputs": [],
   "source": [
    "# import joblib\n",
    "# joblib.dump(classifier, 'PCAKNN.pkl')\n"
   ]
  },
  {
   "cell_type": "code",
   "execution_count": 31,
   "metadata": {},
   "outputs": [
    {
     "name": "stdout",
     "output_type": "stream",
     "text": [
      "0.8121827411167513\n",
      "              precision    recall  f1-score   support\n",
      "\n",
      "       anger       0.75      0.90      0.82        20\n",
      "    contempt       0.75      1.00      0.86         6\n",
      "     disgust       0.88      0.73      0.80        41\n",
      "        fear       0.76      0.87      0.81        15\n",
      "       happy       0.92      0.85      0.88        39\n",
      "     sadness       0.60      0.55      0.57        22\n",
      "    surprise       0.83      0.89      0.86        54\n",
      "\n",
      "    accuracy                           0.81       197\n",
      "   macro avg       0.78      0.83      0.80       197\n",
      "weighted avg       0.82      0.81      0.81       197\n",
      "\n",
      "[[18  0  0  0  0  2  0]\n",
      " [ 0  6  0  0  0  0  0]\n",
      " [ 2  0 30  2  3  2  2]\n",
      " [ 0  0  0 13  0  2  0]\n",
      " [ 2  0  2  0 33  0  2]\n",
      " [ 0  2  2  0  0 12  6]\n",
      " [ 2  0  0  2  0  2 48]]\n"
     ]
    }
   ],
   "source": [
    "# print(test_labels)\n",
    "print(accuracy_score(test_labels, y_pred))\n",
    "print(classification_report(test_labels, y_pred))\n",
    "print(confusion_matrix(test_labels, y_pred))"
   ]
  },
  {
   "cell_type": "code",
   "execution_count": 33,
   "metadata": {},
   "outputs": [],
   "source": [
    "# # img = io.imread('im.JPG')\n",
    "# # img = io.imread('S010_006_00000013.png')\n",
    "# # img = io.imread('MK.SU1.122.tiff')\n",
    "# # img = io.imread('S010_006_00000013.png')\n",
    "# # /happy\n",
    "# # img = io.imread('MK.HA1.116.tiff')\n",
    "# # /angry\n",
    "# # img = io.imread('KA.AN3.41.tiff')\n",
    "# # /sad\n",
    "# # img = io.imread('KA.SA1.33.tiff')\n",
    "# # img = io.imread('data.png')\n",
    "\n",
    "# # img  = io.imread('KA.AN2.40.tiff')\n",
    "# # img  = io.imread('MK.HA1.116.tiff')\n",
    "# # img  = io.imread('UY.DI2.150.tiff')\n",
    "\n",
    "# img = io.imread('S010_006_00000013.png')\n",
    "# # /happy\n",
    "# # img = io.imread('MK.HA1.116.tiff')\n",
    "# # /angry\n",
    "# # img = io.imread('KA.AN3.41.tiff')\n",
    "# # /sad\n",
    "# # img = io.imread('KA.SA1.33.tiff')\n",
    "# # img = io.imread('data.png')\n",
    "\n",
    "# # img  = io.imread('KA.AN2.40.tiff')\n",
    "# # img  = io.imread('MK.HA1.116.tiff')\n",
    "# # img  = io.imread('UY.DI2.150.tiff')\n",
    "\n",
    "# # img = io.imread('p1.jpg')\n",
    "\n",
    "# f=extract_features(img)\n",
    "# fp= pca.transform([f])\n",
    "# # print(f)\n",
    "# # print(fp)\n",
    "\n",
    "# print ('pred label', classifier.predict(fp) )"
   ]
  },
  {
   "cell_type": "code",
   "execution_count": 34,
   "metadata": {},
   "outputs": [],
   "source": [
    "# import joblib\n",
    "\n",
    "# train_features, test_features, train_labels, test_labels=split_data(fg,lg,0.2)\n",
    "# # from sklearn.decomposition import PCA\n",
    "\n",
    "# # pca = PCA(n_components=0.7)\n",
    "# # X_train1 = pca.fit_transform(train_features)\n",
    "# # X_test1 = pca.transform(test_features)\n",
    "# # # n_components=1000 must be between 0 and min(n_samples, n_features)=900 with svd_solver='full'\n",
    "\n",
    "# PCASVM_joblib = joblib.load('PCASVM.pkl')\n",
    "# # Use the loaded model to make predictions\n",
    "# g=PCASVM_joblib.predict(test_features)\n",
    "# print(g)"
   ]
  },
  {
   "cell_type": "code",
   "execution_count": null,
   "metadata": {},
   "outputs": [],
   "source": []
  }
 ],
 "metadata": {
  "kernelspec": {
   "display_name": "Python 3",
   "language": "python",
   "name": "python3"
  },
  "language_info": {
   "codemirror_mode": {
    "name": "ipython",
    "version": 3
   },
   "file_extension": ".py",
   "mimetype": "text/x-python",
   "name": "python",
   "nbconvert_exporter": "python",
   "pygments_lexer": "ipython3",
   "version": "3.7.6"
  }
 },
 "nbformat": 4,
 "nbformat_minor": 4
}
