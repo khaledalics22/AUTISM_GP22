{
  "cells": [
    {
      "cell_type": "markdown",
      "metadata": {
        "id": "ERo-AW-UAW_m"
      },
      "source": [
        "# referance https://www.researchgate.net/publication/222574859_Facial_expression_recognition_based_on_Local_Binary_Patterns_A_comprehensive_study/link/5f485162299bf13c504481fa/download\n",
        "\n",
        "link : https://pyimagesearch.com/2015/12/07/local-binary-patterns-with-python-opencv/\n",
        "\n"
      ]
    },
    {
      "cell_type": "markdown",
      "metadata": {
        "id": "vRxdRZdZzBPF"
      },
      "source": [
        "# load data from drive fer2013 plus\n"
      ]
    },
    {
      "cell_type": "markdown",
      "metadata": {
        "id": "QOG81TS26ec_"
      },
      "source": [
        "## trational"
      ]
    },
    {
      "cell_type": "code",
      "execution_count": null,
      "metadata": {
        "id": "POUH2E24y5Ci"
      },
      "outputs": [],
      "source": [
        "import pandas as pd\n",
        "import numpy as np\n",
        "from keras.models import Sequential\n",
        "from keras.layers.core import Flatten, Dense, Dropout\n",
        "from keras.layers.convolutional import Convolution2D, MaxPooling2D, ZeroPadding2D\n",
        "from tensorflow.keras.optimizers import SGD\n",
        "import cv2\n",
        "from google.colab.patches import cv2_imshow"
      ]
    },
    {
      "cell_type": "code",
      "execution_count": null,
      "metadata": {
        "id": "c0BdRDeDzS27"
      },
      "outputs": [],
      "source": [
        "#copy from  drive to runtime\n",
        "!cp  /content/drive/MyDrive/GP/emotion_data/fer2013plus/fer2013new.csv  .\n",
        "!cp  /content/drive/MyDrive/GP/emotion_data/fer2013/fer2013.csv .\n",
        "#  0=Angry, 1=Disgust, 2=Fear, 3=Happy, 4=Sad, 5=Surprise, 6=Neutral\n",
        "# neutral, happiness, surprise, sadness, anger, disgust, fear, contempt"
      ]
    },
    {
      "cell_type": "code",
      "execution_count": null,
      "metadata": {
        "id": "6XiZwmZhzTgJ"
      },
      "outputs": [],
      "source": [
        "emotion_data = pd.read_csv('/content/fer2013.csv')\n",
        "emotion_data_new = pd.read_csv('/content/fer2013new.csv')\n",
        "X_train = []\n",
        "y_train = []\n",
        "X_test = []\n",
        "y_test = []\n",
        "name_train=[]\n",
        "name_test=[]\n",
        "emotions=['neutral','happiness','surprise','sadness']#['neutral','happiness','surprise','sadness','anger','disgust','fear','contempt']"
      ]
    },
    {
      "cell_type": "code",
      "execution_count": null,
      "metadata": {
        "id": "pb8TajKrzZgN"
      },
      "outputs": [],
      "source": [
        "for (index, row), (_, row_n) in zip(emotion_data.iterrows(),emotion_data_new.iterrows()):\n",
        "    k = row['pixels'].split(\" \")\n",
        "    if row_n['Usage'] == 'Training':\n",
        "      for j in range(len(emotions)):\n",
        "        if(row_n[emotions[j]]>=7):\n",
        "          X_train.append(np.array(k))\n",
        "          name_train.append(row_n['Image name'])\n",
        "          y_train.append(j)\n",
        "    elif row_n['Usage'] == 'PublicTest':\n",
        "         for j in range(len(emotions)):\n",
        "          if(row_n[emotions[j]]==10):\n",
        "            X_test.append(np.array(k))\n",
        "            name_test.append(row_n['Image name'])\n",
        "            y_test.append(j)"
      ]
    },
    {
      "cell_type": "code",
      "execution_count": null,
      "metadata": {
        "colab": {
          "base_uri": "https://localhost:8080/"
        },
        "id": "zt5C9kJSLS6N",
        "outputId": "479c4244-a966-4305-d986-d2548a5a9bc0"
      },
      "outputs": [
        {
          "output_type": "execute_result",
          "data": {
            "text/plain": [
              "16677"
            ]
          },
          "metadata": {},
          "execution_count": 18
        }
      ],
      "source": [
        "len(y_train)"
      ]
    },
    {
      "cell_type": "markdown",
      "metadata": {
        "id": "ZSlKfJw8BcMN"
      },
      "source": [
        "## make test data as any of correct in it:"
      ]
    },
    {
      "cell_type": "code",
      "execution_count": null,
      "metadata": {
        "id": "rsVkAzvfBapw"
      },
      "outputs": [],
      "source": [
        "X_train=[]\n",
        "y_train=[]\n",
        "X_test=[]\n",
        "y_test=[]\n",
        "for (index, row), (_, row_n) in zip(emotion_data.iterrows(),emotion_data_new.iterrows()):\n",
        "    k = row['pixels'].split(\" \")\n",
        "    if row_n['Usage'] == 'Training':\n",
        "      for j in range(len(emotions)):\n",
        "        if(row_n[emotions[j]]>=5):\n",
        "          X_train.append(np.array(k))\n",
        "          y_train.append(j)\n",
        "    elif row_n['Usage'] == 'PublicTest':\n",
        "         X_test.append(np.array(k))\n",
        "         y_emotions=[]\n",
        "         for j in range(len(emotions)):\n",
        "          if(row_n[emotions[j]]!=0):\n",
        "            y_emotions.append(j)\n",
        "         y_test.append(y_emotions)"
      ]
    },
    {
      "cell_type": "code",
      "execution_count": null,
      "metadata": {
        "id": "Im3Tk6QFh2ul"
      },
      "outputs": [],
      "source": [
        "X_test=[]\n",
        "y_test=[]\n",
        "for (index, row), (_, row_n) in zip(emotion_data.iterrows(),emotion_data_new.iterrows()):\n",
        "    k = row['pixels'].split(\" \")\n",
        "    # if row_n['Usage'] == 'Training':\n",
        "    #   for j in range(len(emotions)):\n",
        "    #     if(row_n[emotions[j]]>=5):\n",
        "    #       X_train.append(np.array(k))\n",
        "    #       y_train.append(j)\n",
        "    if row_n['Usage'] == 'PublicTest':\n",
        "         X_test.append(np.array(k))\n",
        "         y_emotions=[]\n",
        "         for j in range(len(emotions)):\n",
        "            y_emotions.append((row_n[emotions[j]], j))\n",
        "         y_emotions = [i for k,i in sorted(y_emotions, reverse=True)[:1]]\n",
        "         y_test.append(y_emotions)"
      ]
    },
    {
      "cell_type": "code",
      "execution_count": null,
      "metadata": {
        "id": "bMuiLGKCiV1F"
      },
      "outputs": [],
      "source": [
        "y_test"
      ]
    },
    {
      "cell_type": "markdown",
      "metadata": {
        "id": "7TGoaWu_CNqF"
      },
      "source": [
        "## code shared"
      ]
    },
    {
      "cell_type": "code",
      "execution_count": null,
      "metadata": {
        "colab": {
          "base_uri": "https://localhost:8080/"
        },
        "id": "1XDC1_OSzqaa",
        "outputId": "b2715b4c-a80b-4898-a920-ae7fcf2882b5"
      },
      "outputs": [
        {
          "output_type": "stream",
          "name": "stderr",
          "text": [
            "/usr/local/lib/python3.7/dist-packages/ipykernel_launcher.py:11: DeprecationWarning: `np.float` is a deprecated alias for the builtin `float`. To silence this warning, use `float` by itself. Doing this will not modify any behavior and is safe. If you specifically wanted the numpy scalar type, use `np.float64` here.\n",
            "Deprecated in NumPy 1.20; for more details and guidance: https://numpy.org/devdocs/release/1.20.0-notes.html#deprecations\n",
            "  # This is added back by InteractiveShellApp.init_path()\n",
            "/usr/local/lib/python3.7/dist-packages/ipykernel_launcher.py:13: DeprecationWarning: `np.float` is a deprecated alias for the builtin `float`. To silence this warning, use `float` by itself. Doing this will not modify any behavior and is safe. If you specifically wanted the numpy scalar type, use `np.float64` here.\n",
            "Deprecated in NumPy 1.20; for more details and guidance: https://numpy.org/devdocs/release/1.20.0-notes.html#deprecations\n",
            "  del sys.path[0]\n",
            "/usr/local/lib/python3.7/dist-packages/ipykernel_launcher.py:14: DeprecationWarning: Converting `np.integer` or `np.signedinteger` to a dtype is deprecated. The current result is `np.dtype(np.int_)` which is not strictly correct. Note that the result depends on the system. To ensure stable results use may want to use `np.int64` or `np.int32`.\n",
            "  \n"
          ]
        }
      ],
      "source": [
        "X_train = np.array(X_train)\n",
        "y_train = np.array(y_train)\n",
        "X_test = np.array(X_test)\n",
        "y_test = np.array(y_test)\n",
        "#################################################\n",
        "X_train = X_train.reshape(X_train.shape[0], 48, 48, 1)\n",
        "X_test = X_test.reshape(X_test.shape[0], 48, 48, 1)\n",
        "X_train=X_train.reshape((len(X_train),48,48))\n",
        "X_test=X_test.reshape((len(X_test),48,48))\n",
        "#################################################\n",
        "X_test = X_test.astype(np.float)\n",
        "#y_test = y_test.astype(np.integer)\n",
        "X_train = X_train.astype(np.float)\n",
        "y_train = y_train.astype(np.integer)"
      ]
    },
    {
      "cell_type": "code",
      "execution_count": null,
      "metadata": {
        "colab": {
          "base_uri": "https://localhost:8080/"
        },
        "id": "xhM7XRGEzrSf",
        "outputId": "0c3a70d7-fc91-4684-82b4-848aeaa26afb"
      },
      "outputs": [
        {
          "output_type": "display_data",
          "data": {
            "text/plain": [
              "<PIL.Image.Image image mode=L size=48x48 at 0x7FE43F057D90>"
            ],
            "image/png": "[encoded data removed]"
          },
          "metadata": {}
        },
        {
          "output_type": "stream",
          "name": "stdout",
          "text": [
            "sadness\n"
          ]
        },
        {
          "output_type": "execute_result",
          "data": {
            "text/plain": [
              "array([[ 20.,  17.,  19., ..., 187., 176., 162.],\n",
              "       [ 22.,  17.,  17., ..., 195., 180., 171.],\n",
              "       [ 17.,  17.,  18., ..., 203., 193., 175.],\n",
              "       ...,\n",
              "       [  1.,   1.,   1., ..., 106., 115., 119.],\n",
              "       [  2.,   2.,   1., ..., 103., 111., 119.],\n",
              "       [  2.,   2.,   2., ...,  99., 107., 118.]])"
            ]
          },
          "metadata": {},
          "execution_count": 20
        }
      ],
      "source": [
        "cv2_imshow(X_train[y_train==3][2])\n",
        "print(emotions[y_train[y_train==3][2]])\n",
        "X_train[y_train==3][0]"
      ]
    },
    {
      "cell_type": "code",
      "execution_count": null,
      "metadata": {
        "colab": {
          "base_uri": "https://localhost:8080/"
        },
        "id": "SIewo47tTmN1",
        "outputId": "b8743efe-a7a5-4ca0-a1cc-f43215a8c1f0"
      },
      "outputs": [
        {
          "output_type": "execute_result",
          "data": {
            "text/plain": [
              "(983, 48, 48)"
            ]
          },
          "metadata": {},
          "execution_count": 21
        }
      ],
      "source": [
        "X_test.shape"
      ]
    },
    {
      "cell_type": "code",
      "source": [
        ""
      ],
      "metadata": {
        "id": "wGh8lrjB64u0"
      },
      "execution_count": null,
      "outputs": []
    },
    {
      "cell_type": "markdown",
      "metadata": {
        "id": "pidNg1bgGxfe"
      },
      "source": [
        "# imports"
      ]
    },
    {
      "cell_type": "code",
      "execution_count": null,
      "metadata": {
        "id": "D3HtwCE5FcGZ"
      },
      "outputs": [],
      "source": [
        "from skimage.feature import local_binary_pattern\n",
        "import numpy as np\n",
        "import matplotlib.pyplot as plt\n",
        "from google.colab.patches import cv2_imshow\n",
        "from sklearn.neural_network import MLPClassifier\n",
        "import numpy as np\n",
        "from skimage.feature import greycomatrix, greycoprops,hog\n",
        "from scipy.signal import convolve2d\n",
        "from skimage.transform import rotate\n",
        "from skimage.feature import local_binary_pattern\n",
        "np.random.seed(1337) # for reproducibility\n",
        "from matplotlib import pyplot as plt\n",
        "from tensorflow import keras\n",
        "from tensorflow.keras import layers\n",
        "import cv2\n",
        "from google.colab.patches import cv2_imshow\n",
        "from tqdm.notebook import tqdm\n",
        "import os\n",
        "import copy\n",
        "import gc\n",
        "import pickle\n",
        "from joblib import dump, load\n",
        "\n",
        "from sklearn.neighbors import KNeighborsClassifier\n",
        "from sklearn.ensemble import RandomForestClassifier\n",
        "from sklearn.neighbors import KernelDensity\n",
        "from sklearn.pipeline import make_pipeline\n",
        "from sklearn.preprocessing import StandardScaler\n",
        "from sklearn.svm import SVC\n",
        "\n",
        "from sklearn.metrics import confusion_matrix\n",
        "from sklearn.metrics import classification_report\n",
        "from sklearn.metrics import accuracy_score"
      ]
    },
    {
      "cell_type": "markdown",
      "metadata": {
        "id": "RqLQ47oPNYcj"
      },
      "source": [
        "# feature"
      ]
    },
    {
      "cell_type": "markdown",
      "metadata": {
        "id": "WjSJvivic9JC"
      },
      "source": [
        "## Haralick from GLCM"
      ]
    },
    {
      "cell_type": "code",
      "execution_count": null,
      "metadata": {
        "id": "ylJ-EdYTdCER"
      },
      "outputs": [],
      "source": [
        "DISTANCES = [1, 3, 5]\n",
        "ANGLES = [0, np.pi/4, np.pi/2, 3*np.pi/4]\n",
        "    \n",
        "def extract_features_Haralick(image):\n",
        "    glcm = greycomatrix(image, \n",
        "                    distances=DISTANCES, \n",
        "                    angles=ANGLES,\n",
        "                    symmetric=True,\n",
        "                    normed=True)\n",
        "    properties = ['contrast', 'energy', 'homogeneity', 'correlation']\n",
        "    contrast = greycoprops(glcm, properties[0])\n",
        "    energy = greycoprops(glcm, properties[1])\n",
        "    homogeneity = greycoprops(glcm, properties[2])\n",
        "    correlation = greycoprops(glcm, properties[3])\n",
        "    Haralick=np.concatenate((contrast,energy,homogeneity,correlation),axis=None)\n",
        "    Haralick=Haralick.flatten()\n",
        "    return Haralick"
      ]
    },
    {
      "cell_type": "markdown",
      "metadata": {
        "id": "FrY-qGTyU6XR"
      },
      "source": [
        "### fixed bins number"
      ]
    },
    {
      "cell_type": "code",
      "execution_count": null,
      "metadata": {
        "id": "gto1RJvtG5X6"
      },
      "outputs": [],
      "source": [
        "wieghts=[0,1,1,1,1,0\n",
        "   ,2,2,2,2,2,2\n",
        "   ,2,4,4,4,4,2\n",
        "   ,1,1,2,2,1,1\n",
        "   ,1,2,4,4,2,1\n",
        "   ,0,1,2,2,1,0]\n",
        "r=2\n",
        "w=48\n",
        "l=48\n",
        "def getLBPH(image,region_len):\n",
        "  LBP_image=local_binary_pattern(image, 8,2)\n",
        "  LBP_image=LBP_image[r:l-r,r:w-r]\n",
        "  LBP_image\n",
        "  LBP_hist=[np.histogram(LBP_image[i*int((l-2*r)/region_len):(i+1)*int((l-2*r)/region_len),j*int((w-2*r)/region_len):(j+1)*int((w-2*r)/region_len)].ravel(),bins=64,range=(0,255))  \n",
        "  for i in range(region_len)for j in range(region_len)]\n",
        "  LBP_hist=np.array([item[0]/np.sum(item[0])*wieghts[i] if np.sum(item[0]) else item[0] for i, item in enumerate(LBP_hist)]).ravel()\n",
        "  return LBP_hist"
      ]
    },
    {
      "cell_type": "markdown",
      "metadata": {
        "id": "OWdxGSYeVDQw"
      },
      "source": [
        "### variable bins number"
      ]
    },
    {
      "cell_type": "code",
      "execution_count": null,
      "metadata": {
        "id": "BccIzg9cU0sm"
      },
      "outputs": [],
      "source": [
        "wieghts=[0,1,1,1,1,0\n",
        "   ,2,2,2,2,2,2\n",
        "   ,2,4,4,4,4,2\n",
        "   ,1,1,2,2,1,1\n",
        "   ,1,2,4,4,2,1\n",
        "   ,0,1,2,2,1,0]\n",
        "bin=[1,64,64,0,64]\n",
        "r=2\n",
        "w=48\n",
        "l=48\n",
        "def getLBPH(image,region_len):\n",
        "  LBP_image=local_binary_pattern(image, 8,2)\n",
        "  LBP_image=LBP_image[r:l-r,r:w-r]\n",
        "  #print(LBP_image.shape)\n",
        "  LBP_hist=[np.histogram(LBP_image[i*int((l-2*r)/region_len):(i+1)*int((l-2*r)/region_len),j*int((w-2*r)/region_len):(j+1)*int((w-2*r)/region_len)].ravel(),bins=bin[wieghts[i*region_len+j]],range=(0,255))  \n",
        "  for i in range(region_len)for j in range(region_len)]\n",
        "  LBP_hist=np.concatenate(np.array([item[0]/np.sum(item[0])*wieghts[i] if np.sum(item[0]) else item[0] for i, item in enumerate(LBP_hist)]))\n",
        "  return LBP_hist"
      ]
    },
    {
      "cell_type": "code",
      "source": [
        "4/2*7"
      ],
      "metadata": {
        "colab": {
          "base_uri": "https://localhost:8080/"
        },
        "id": "PyeK0k5QOcnz",
        "outputId": "ea866cb2-b02c-4bce-9eec-00028940afe0"
      },
      "execution_count": null,
      "outputs": [
        {
          "output_type": "execute_result",
          "data": {
            "text/plain": [
              "14.0"
            ]
          },
          "metadata": {},
          "execution_count": 43
        }
      ]
    },
    {
      "cell_type": "code",
      "source": [
        "import numpy as np \n",
        "\n",
        "print(np.histogram([10,20,31,41,71,81,91,99,41,99,200,207,250],bins=13,range=(0,255)))\n",
        "hist=[0,0,0,0,0,0,0,0,0,0,0,0,0]\n",
        "for i in [10,20,31,41,71,81,91,99,41,99,200,207,250]:\n",
        "  hist[int(13*i/255)]+=1\n",
        "hist\n"
      ],
      "metadata": {
        "colab": {
          "base_uri": "https://localhost:8080/"
        },
        "id": "FA3RptvuGAer",
        "outputId": "21625582-def8-4e30-bf4d-7f9e9b7d4453"
      },
      "execution_count": null,
      "outputs": [
        {
          "output_type": "stream",
          "name": "stdout",
          "text": [
            "(array([1, 2, 2, 1, 2, 2, 0, 0, 0, 0, 2, 0, 1]), array([  0.        ,  19.61538462,  39.23076923,  58.84615385,\n",
            "        78.46153846,  98.07692308, 117.69230769, 137.30769231,\n",
            "       156.92307692, 176.53846154, 196.15384615, 215.76923077,\n",
            "       235.38461538, 255.        ]))\n"
          ]
        },
        {
          "output_type": "execute_result",
          "data": {
            "text/plain": [
              "[1, 2, 2, 1, 2, 2, 0, 0, 0, 0, 2, 0, 1]"
            ]
          },
          "metadata": {},
          "execution_count": 42
        }
      ]
    },
    {
      "cell_type": "markdown",
      "metadata": {
        "id": "cFS8hyhMHHag"
      },
      "source": [
        "## extract local binary pattern feature\n"
      ]
    },
    {
      "cell_type": "markdown",
      "metadata": {
        "id": "cIL5QVmxuRqG"
      },
      "source": [
        "## feature extraction in training\n"
      ]
    },
    {
      "cell_type": "code",
      "source": [
        "getLBPH(X_train[0],6).shape"
      ],
      "metadata": {
        "colab": {
          "base_uri": "https://localhost:8080/",
          "height": 299
        },
        "id": "IbwUyN52QIbK",
        "outputId": "a4cab14f-950b-45d6-92d4-9a8f28f1ba42"
      },
      "execution_count": null,
      "outputs": [
        {
          "output_type": "error",
          "ename": "NameError",
          "evalue": "ignored",
          "traceback": [
            "\u001b[0;31m---------------------------------------------------------------------------\u001b[0m",
            "\u001b[0;31mNameError\u001b[0m                                 Traceback (most recent call last)",
            "\u001b[0;32m<ipython-input-10-ed55616c00cb>\u001b[0m in \u001b[0;36m<module>\u001b[0;34m()\u001b[0m\n\u001b[0;32m----> 1\u001b[0;31m \u001b[0mgetLBPH\u001b[0m\u001b[0;34m(\u001b[0m\u001b[0mX_train\u001b[0m\u001b[0;34m[\u001b[0m\u001b[0;36m0\u001b[0m\u001b[0;34m]\u001b[0m\u001b[0;34m,\u001b[0m\u001b[0;36m6\u001b[0m\u001b[0;34m)\u001b[0m\u001b[0;34m.\u001b[0m\u001b[0mshape\u001b[0m\u001b[0;34m\u001b[0m\u001b[0;34m\u001b[0m\u001b[0m\n\u001b[0m",
            "\u001b[0;32m<ipython-input-9-e295b275afae>\u001b[0m in \u001b[0;36mgetLBPH\u001b[0;34m(image, region_len)\u001b[0m\n\u001b[1;32m     10\u001b[0m \u001b[0ml\u001b[0m\u001b[0;34m=\u001b[0m\u001b[0;36m48\u001b[0m\u001b[0;34m\u001b[0m\u001b[0;34m\u001b[0m\u001b[0m\n\u001b[1;32m     11\u001b[0m \u001b[0;32mdef\u001b[0m \u001b[0mgetLBPH\u001b[0m\u001b[0;34m(\u001b[0m\u001b[0mimage\u001b[0m\u001b[0;34m,\u001b[0m\u001b[0mregion_len\u001b[0m\u001b[0;34m)\u001b[0m\u001b[0;34m:\u001b[0m\u001b[0;34m\u001b[0m\u001b[0;34m\u001b[0m\u001b[0m\n\u001b[0;32m---> 12\u001b[0;31m   \u001b[0mLBP_image\u001b[0m\u001b[0;34m=\u001b[0m\u001b[0mlocal_binary_pattern\u001b[0m\u001b[0;34m(\u001b[0m\u001b[0mimage\u001b[0m\u001b[0;34m,\u001b[0m \u001b[0;36m8\u001b[0m\u001b[0;34m,\u001b[0m\u001b[0;36m2\u001b[0m\u001b[0;34m)\u001b[0m\u001b[0;34m\u001b[0m\u001b[0;34m\u001b[0m\u001b[0m\n\u001b[0m\u001b[1;32m     13\u001b[0m   \u001b[0mLBP_image\u001b[0m\u001b[0;34m=\u001b[0m\u001b[0mLBP_image\u001b[0m\u001b[0;34m[\u001b[0m\u001b[0mr\u001b[0m\u001b[0;34m:\u001b[0m\u001b[0ml\u001b[0m\u001b[0;34m-\u001b[0m\u001b[0mr\u001b[0m\u001b[0;34m,\u001b[0m\u001b[0mr\u001b[0m\u001b[0;34m:\u001b[0m\u001b[0mw\u001b[0m\u001b[0;34m-\u001b[0m\u001b[0mr\u001b[0m\u001b[0;34m]\u001b[0m\u001b[0;34m\u001b[0m\u001b[0;34m\u001b[0m\u001b[0m\n\u001b[1;32m     14\u001b[0m   \u001b[0;31m#print(LBP_image.shape)\u001b[0m\u001b[0;34m\u001b[0m\u001b[0;34m\u001b[0m\u001b[0;34m\u001b[0m\u001b[0m\n",
            "\u001b[0;31mNameError\u001b[0m: name 'local_binary_pattern' is not defined"
          ]
        }
      ]
    },
    {
      "cell_type": "code",
      "execution_count": null,
      "metadata": {
        "colab": {
          "base_uri": "https://localhost:8080/"
        },
        "id": "5kKgkeFsngEO",
        "outputId": "c21ee55f-e71b-40e7-be3e-7997d870709e"
      },
      "outputs": [
        {
          "output_type": "stream",
          "name": "stderr",
          "text": [
            "/usr/local/lib/python3.7/dist-packages/ipykernel_launcher.py:17: VisibleDeprecationWarning: Creating an ndarray from ragged nested sequences (which is a list-or-tuple of lists-or-tuples-or ndarrays with different lengths or shapes) is deprecated. If you meant to do this, you must specify 'dtype=object' when creating the ndarray.\n"
          ]
        }
      ],
      "source": [
        "training_features=[getLBPH(img,6) for img in X_train]\n",
        "training_features=np.array(training_features)"
      ]
    },
    {
      "cell_type": "markdown",
      "metadata": {
        "id": "wsA6imJ1vEfO"
      },
      "source": [
        "## feature extraction in test "
      ]
    },
    {
      "cell_type": "code",
      "execution_count": null,
      "metadata": {
        "colab": {
          "base_uri": "https://localhost:8080/"
        },
        "id": "ZFkeRXtSvIK3",
        "outputId": "6d802c0a-6db5-41d3-e5fd-8f9529b0f79d"
      },
      "outputs": [
        {
          "output_type": "stream",
          "name": "stderr",
          "text": [
            "/usr/local/lib/python3.7/dist-packages/ipykernel_launcher.py:17: VisibleDeprecationWarning: Creating an ndarray from ragged nested sequences (which is a list-or-tuple of lists-or-tuples-or ndarrays with different lengths or shapes) is deprecated. If you meant to do this, you must specify 'dtype=object' when creating the ndarray.\n"
          ]
        }
      ],
      "source": [
        "testing_features=[getLBPH(img,6) for img in X_test]\n",
        "testing_features=np.array(testing_features)"
      ]
    },
    {
      "cell_type": "markdown",
      "metadata": {
        "id": "X-da6XShjI4J"
      },
      "source": [
        "## for Haralick"
      ]
    },
    {
      "cell_type": "markdown",
      "metadata": {
        "id": "ydprPN1pnoCU"
      },
      "source": [
        "### train data"
      ]
    },
    {
      "cell_type": "code",
      "execution_count": null,
      "metadata": {
        "id": "uLyaJs1inoCn"
      },
      "outputs": [],
      "source": [
        "training_features =[extract_features_Haralick(np.array(x,dtype=np.uint8))  for x in X_train]\n",
        "training_features=np.array(training_features)\n",
        "training_features = training_features.reshape((training_features.shape[0], -1))"
      ]
    },
    {
      "cell_type": "markdown",
      "metadata": {
        "id": "ubb6lIC4nxnD"
      },
      "source": [
        "### test data"
      ]
    },
    {
      "cell_type": "code",
      "execution_count": null,
      "metadata": {
        "id": "85yLnqBdnxnE"
      },
      "outputs": [],
      "source": [
        "testing_features =[extract_features_Haralick(np.array(x,dtype=np.uint8))  for x in X_train]\n",
        "testing_features=np.array(testing_features)\n",
        "testing_features = testing_features.reshape((testing_features.shape[0], -1))"
      ]
    },
    {
      "cell_type": "markdown",
      "metadata": {
        "id": "W4jFc8iTv1zL"
      },
      "source": [
        "# models"
      ]
    },
    {
      "cell_type": "markdown",
      "metadata": {
        "id": "jHFjKMNcNpKs"
      },
      "source": [
        "## shared"
      ]
    },
    {
      "cell_type": "code",
      "execution_count": null,
      "metadata": {
        "id": "3GR3BIVTwGVY"
      },
      "outputs": [],
      "source": [
        "# imports\n",
        "\n",
        "from sklearn.neighbors import KNeighborsClassifier\n",
        "from sklearn.ensemble import RandomForestClassifier\n",
        "from sklearn.neighbors import KernelDensity\n",
        "from sklearn.pipeline import make_pipeline\n",
        "from sklearn.preprocessing import StandardScaler\n",
        "from sklearn.svm import SVC\n",
        "\n",
        "from sklearn.metrics import confusion_matrix\n",
        "from sklearn.metrics import classification_report\n",
        "from sklearn.metrics import accuracy_score"
      ]
    },
    {
      "cell_type": "code",
      "execution_count": null,
      "metadata": {
        "id": "JgO4_kc3NC84"
      },
      "outputs": [],
      "source": [
        "# del X_train\n",
        "# del X_test\n",
        "# import gc\n",
        " \n",
        "# # Returns the number of\n",
        "# # objects it has collected\n",
        "# # and deallocated\n",
        "# collected = gc.collect()"
      ]
    },
    {
      "cell_type": "code",
      "execution_count": null,
      "metadata": {
        "id": "IFWrO7Ypv7Lj"
      },
      "outputs": [],
      "source": [
        "def classifier_train(class_obj):\n",
        "  global training_features\n",
        "  clf = make_pipeline(StandardScaler(), class_obj)\n",
        "  clf.fit(training_features, y_train)\n",
        "  print(\"trainning \",clf.score(training_features, y_train))\n",
        "  import gc\n",
        "  # Returns the number of\n",
        "  # objects it has collected\n",
        "  # and deallocated\n",
        "  collected = gc.collect()\n",
        "  y_pred = clf.predict(testing_features)\n",
        "  report = classification_report(y_test, y_pred)\n",
        "  conf_matrix = confusion_matrix(y_test, y_pred)\n",
        "  acc = accuracy_score(y_test, y_pred)\n",
        "  print(\"*\"*10, \"Accuarcy = \", acc, \"*\"*10)\n",
        "  print(\"*\"*30)\n",
        "  print(report)\n",
        "  print(\"*\"*30)\n",
        "  print(conf_matrix)\n",
        "  print(\"*\"*30)\n",
        "  return clf, acc, report, conf_matrix "
      ]
    },
    {
      "cell_type": "markdown",
      "metadata": {
        "id": "LAwl9OsP1IPD"
      },
      "source": [
        "## NN"
      ]
    },
    {
      "cell_type": "code",
      "execution_count": null,
      "metadata": {
        "id": "ExMp3I671Lmd"
      },
      "outputs": [],
      "source": [
        "clf, acc, report, conf_matrix = classifier_train(MLPClassifier(alpha=1e-04, hidden_layer_sizes=(16,16), random_state=1,solver='lbfgs'))"
      ]
    },
    {
      "cell_type": "markdown",
      "metadata": {
        "id": "1pcFoDACNuDW"
      },
      "source": [
        "## kNN"
      ]
    },
    {
      "cell_type": "code",
      "execution_count": null,
      "metadata": {
        "id": "ztUO871YdnAd"
      },
      "outputs": [],
      "source": [
        "KNN_clf, KNN_acc,  KNN_report,  KNN_conf_matrix = classifier_train(KNeighborsClassifier(n_neighbors=1))"
      ]
    },
    {
      "cell_type": "code",
      "execution_count": null,
      "metadata": {
        "id": "_zrFJWrPiiDw"
      },
      "outputs": [],
      "source": [
        "from joblib import dump, load\n",
        "clf=load(\"/content/svm_acc_LBPH_C3_normalize_each_H_SVM_withCropping_bins59_dataMoreThan7_rbf.joblib\")"
      ]
    },
    {
      "cell_type": "markdown",
      "metadata": {
        "id": "r8ZyzDIZiX61"
      },
      "source": [
        "\n",
        "## try test of other data set\n",
        "\n",
        "\n"
      ]
    },
    {
      "cell_type": "markdown",
      "metadata": {
        "id": "3v_EBu8kvNs7"
      },
      "source": [
        "## Enter features to SVM Model"
      ]
    },
    {
      "cell_type": "markdown",
      "metadata": {
        "id": "imVvSrmDvVo6"
      },
      "source": [
        "### train model"
      ]
    },
    {
      "cell_type": "code",
      "source": [
        "from sklearn.preprocessing import StandardScaler\n",
        "import numpy as np\n",
        "\n",
        "# 4 samples/observations and 2 variables/features\n",
        "data = np.array([[0, 0,6], [1, 0,5], [0, 1,4], [1, 1,5]])\n",
        "scaler = StandardScaler()\n",
        "scaled_data = scaler.fit_transform(training_features)\n",
        "print(scaler.mean_)\n",
        "original_means = np.mean(training_features,axis=0)\n",
        "original_stds = np.std(training_features,axis=0) # need to get value and check correct , and send this values to java to check \n",
        "original_means,original_stds # need to get value and check correct , and send this values to java to check "
      ],
      "metadata": {
        "colab": {
          "base_uri": "https://localhost:8080/"
        },
        "id": "vbGhzPdruXHR",
        "outputId": "ed4518da-30b0-4bb4-cef7-699d5cde2f6b"
      },
      "execution_count": null,
      "outputs": [
        {
          "output_type": "stream",
          "name": "stdout",
          "text": [
            "[0.         0.07820988 0.0308882  ... 0.02163189 0.09059526 0.        ]\n"
          ]
        },
        {
          "output_type": "execute_result",
          "data": {
            "text/plain": [
              "(array([0.        , 0.07820988, 0.0308882 , ..., 0.02163189, 0.09059526,\n",
              "        0.        ]),\n",
              " array([0.        , 0.06958934, 0.04834182, ..., 0.03413272, 0.07090892,\n",
              "        0.        ]))"
            ]
          },
          "metadata": {},
          "execution_count": 26
        }
      ]
    },
    {
      "cell_type": "code",
      "source": [
        "scaler.scale_ = np.array([0.5       , 0.5       , 0.70710678])\n"
      ],
      "metadata": {
        "id": "DGa9UEMHxqlA"
      },
      "execution_count": null,
      "outputs": []
    },
    {
      "cell_type": "code",
      "source": [
        "scaler.transform(testing_features)"
      ],
      "metadata": {
        "colab": {
          "base_uri": "https://localhost:8080/"
        },
        "id": "obn3jBETwyle",
        "outputId": "1834bc59-17e5-4a61-9d5d-728269ec0901"
      },
      "execution_count": null,
      "outputs": [
        {
          "output_type": "execute_result",
          "data": {
            "text/plain": [
              "array([[5.        , 9.        , 1.41421356]])"
            ]
          },
          "metadata": {},
          "execution_count": 3
        }
      ]
    },
    {
      "cell_type": "code",
      "execution_count": null,
      "metadata": {
        "colab": {
          "base_uri": "https://localhost:8080/"
        },
        "id": "R-OgK5EGszxz",
        "outputId": "c76c23a4-afeb-4097-c9c8-9a04e1012160"
      },
      "outputs": [
        {
          "output_type": "stream",
          "name": "stdout",
          "text": [
            "[0.         0.07820988 0.0308882  ... 0.02163189 0.09059526 0.        ]\n"
          ]
        },
        {
          "output_type": "execute_result",
          "data": {
            "text/plain": [
              "(array([0.        , 0.07820988, 0.0308882 , ..., 0.02163189, 0.09059526,\n",
              "        0.        ]),\n",
              " array([0.        , 0.06958934, 0.04834182, ..., 0.03413272, 0.07090892,\n",
              "        0.        ]))"
            ]
          },
          "metadata": {},
          "execution_count": 27
        }
      ],
      "source": [
        "from sklearn.preprocessing import StandardScaler\n",
        "import numpy as np\n",
        "\n",
        "# 4 samples/observations and 2 variables/features\n",
        "data = np.array([[0, 0], [1, 0], [0, 1], [1, 1]])\n",
        "scaler = StandardScaler()\n",
        "scaled_data = scaler.fit_transform(training_features)\n",
        "print(scaler.mean_)\n",
        "original_means = np.mean(training_features,axis=0)\n",
        "original_stds = np.std(training_features,axis=0) # need to get value and check correct , and send this values to java to check \n",
        "original_means,original_stds # need to get value and check correct , and send this values to java to check "
      ]
    },
    {
      "cell_type": "code",
      "execution_count": null,
      "metadata": {
        "id": "TaJ6_5nL8VIT"
      },
      "outputs": [],
      "source": [
        "file1 = open('myfile.txt', 'w')\n",
        "for i in original_means :\n",
        "  file1.write(str(i)+\" \")\n",
        "file1.write(\" \\n  \\n \")  \n",
        "for i in original_stds :\n",
        "  file1.write(str(i)+\" \")\n",
        "file1.close()"
      ]
    },
    {
      "cell_type": "code",
      "execution_count": null,
      "metadata": {
        "colab": {
          "base_uri": "https://localhost:8080/"
        },
        "id": "M7cLp28a8Ut_",
        "outputId": "1cd969d1-6c8c-45c4-8116-47d4d87b7d96"
      },
      "outputs": [
        {
          "data": {
            "text/plain": [
              "array([0.        , 0.07820988, 0.0308882 , ..., 0.02163189, 0.09059526,\n",
              "       0.        ])"
            ]
          },
          "execution_count": 112,
          "metadata": {},
          "output_type": "execute_result"
        }
      ],
      "source": [
        "original_means"
      ]
    },
    {
      "cell_type": "code",
      "execution_count": null,
      "metadata": {
        "colab": {
          "background_save": true,
          "base_uri": "https://localhost:8080/"
        },
        "id": "ahy4-5pFB7r3",
        "outputId": "37c8929a-4bc6-4b79-d185-af25a118d8d3"
      },
      "outputs": [
        {
          "data": {
            "text/plain": [
              "array([[ True, False, False, ..., False, False,  True]])"
            ]
          },
          "execution_count": null,
          "metadata": {},
          "output_type": "execute_result"
        }
      ],
      "source": [
        "#print(scaler.transform([testing_features[0]]))\n",
        "\n",
        "x=original_stds\n",
        "x[original_stds !=0]=(testing_features[0]-original_means)[original_stds !=0]/original_stds[original_stds !=0]\n",
        "x==scaler.transform([testing_features[0]])"
      ]
    },
    {
      "cell_type": "code",
      "execution_count": null,
      "metadata": {
        "colab": {
          "base_uri": "https://localhost:8080/"
        },
        "id": "WHMc0ZIdDG_j",
        "outputId": "35ec7205-1168-491e-ccc0-218ce66c6faa"
      },
      "outputs": [
        {
          "data": {
            "text/plain": [
              "True"
            ]
          },
          "execution_count": 102,
          "metadata": {},
          "output_type": "execute_result"
        }
      ],
      "source": [
        "svm = cv2.ml.SVM_create()\n",
        "svm.setType(cv2.ml.SVM_C_SVC)\n",
        "svm.setKernel(cv2.ml.SVM_RBF)\n",
        "svm.setTermCriteria((cv2.TERM_CRITERIA_EPS, 1000000000, 0.001))\n",
        "svm.setC(3)\n",
        "svm.setDegree(3)\n",
        "svm.setGamma(0.00048828124999999946)\n",
        "\n",
        "svm.train(training_features.astype(np.float32), cv2.ml.ROW_SAMPLE, y_train.astype(np.int32))\n",
        "#svm.save(\"/content/drive/MyDrive/GP/emotion_data/opencv_notstandard_firstT_correct.xml\")"
      ]
    },
    {
      "cell_type": "code",
      "execution_count": null,
      "metadata": {
        "id": "ImF9odj9wDKg",
        "colab": {
          "base_uri": "https://localhost:8080/",
          "height": 171
        },
        "outputId": "7eb44bdb-1229-4980-a906-63c0fc04fef5"
      },
      "outputs": [
        {
          "output_type": "error",
          "ename": "AttributeError",
          "evalue": "ignored",
          "traceback": [
            "\u001b[0;31m---------------------------------------------------------------------------\u001b[0m",
            "\u001b[0;31mAttributeError\u001b[0m                            Traceback (most recent call last)",
            "\u001b[0;32m<ipython-input-26-f362e57ecd60>\u001b[0m in \u001b[0;36m<module>\u001b[0;34m()\u001b[0m\n\u001b[0;32m----> 1\u001b[0;31m \u001b[0msvm\u001b[0m\u001b[0;34m=\u001b[0m\u001b[0mcv2\u001b[0m\u001b[0;34m.\u001b[0m\u001b[0mload_SVM\u001b[0m\u001b[0;34m(\u001b[0m\u001b[0;34m\"/content/drive/MyDrive/GP/emotion_data/opencv_withOutstandard_ThirdT_SetC_D_correctGa.xml\"\u001b[0m\u001b[0;34m)\u001b[0m\u001b[0;34m\u001b[0m\u001b[0;34m\u001b[0m\u001b[0m\n\u001b[0m",
            "\u001b[0;31mAttributeError\u001b[0m: module 'cv2.cv2' has no attribute 'load_SVM'"
          ]
        }
      ],
      "source": [
        "svm=cv2.load_SVM(\"/content/drive/MyDrive/GP/emotion_data/opencv_withOutstandard_ThirdT_SetC_D_correctGa.xml\")"
      ]
    },
    {
      "cell_type": "code",
      "execution_count": null,
      "metadata": {
        "id": "bJz8nvh6ZtP4"
      },
      "outputs": [],
      "source": [
        "!cp /content/drive/MyDrive/GP/emotion_data/opencv_withstandard_ThirdT_SetC_D_Ga.xml ."
      ]
    },
    {
      "cell_type": "code",
      "execution_count": null,
      "metadata": {
        "colab": {
          "base_uri": "https://localhost:8080/"
        },
        "id": "kNW1S2-qZ-0s",
        "outputId": "862a9160-1021-4005-d870-ee2e400dd37b"
      },
      "outputs": [
        {
          "name": "stdout",
          "output_type": "stream",
          "text": [
            "total 832M\n",
            "drwx------ 5 root root 4.0K Jul 11 15:37 drive\n",
            "-rw------- 1 root root 288M Jul 11 14:51 fer2013.csv\n",
            "-rw------- 1 root root 1.6M Jul 11 14:51 fer2013new.csv\n",
            "-rw------- 1 root root 543M Jul 11 17:55 opencv_withstandard_ThirdT_SetC_D_Ga.xml\n",
            "drwxr-xr-x 1 root root 4.0K Jul  6 13:22 sample_data\n"
          ]
        }
      ],
      "source": [
        "!ls -lh"
      ]
    },
    {
      "cell_type": "code",
      "execution_count": null,
      "metadata": {
        "colab": {
          "base_uri": "https://localhost:8080/"
        },
        "id": "Dex9FxHwZazt",
        "outputId": "6e1f7e24-2559-455d-ffb9-8259487aed79"
      },
      "outputs": [
        {
          "output_type": "execute_result",
          "data": {
            "text/plain": [
              "((983, 2052), (16677, 2052), (983, 2052), (16677, 2052))"
            ]
          },
          "metadata": {},
          "execution_count": 28
        }
      ],
      "source": [
        "scale_test=scaler.transform(testing_features)\n",
        "scale_test.shape,scaled_data.shape,testing_features.shape,training_features.shape"
      ]
    },
    {
      "cell_type": "code",
      "execution_count": null,
      "metadata": {
        "colab": {
          "base_uri": "https://localhost:8080/"
        },
        "id": "N9PMNj86awAZ",
        "outputId": "93d8b537-d8bb-4c19-e888-556fed2d218c"
      },
      "outputs": [
        {
          "data": {
            "text/plain": [
              "(3,)"
            ]
          },
          "execution_count": 22,
          "metadata": {},
          "output_type": "execute_result"
        }
      ],
      "source": [
        "ypred.reshape((3,)).shape"
      ]
    },
    {
      "cell_type": "code",
      "execution_count": null,
      "metadata": {
        "colab": {
          "base_uri": "https://localhost:8080/"
        },
        "id": "t7e0JwAoBSZ4",
        "outputId": "baff011b-d5db-4edb-d635-49c9ae4c043c"
      },
      "outputs": [
        {
          "data": {
            "text/plain": [
              "array([0, 1, 2, 3])"
            ]
          },
          "execution_count": 53,
          "metadata": {},
          "output_type": "execute_result"
        }
      ],
      "source": [
        "np.unique(y_pred)"
      ]
    },
    {
      "cell_type": "code",
      "execution_count": null,
      "metadata": {
        "id": "VlC1-1JsB3L9"
      },
      "outputs": [],
      "source": [
        ""
      ]
    },
    {
      "cell_type": "code",
      "execution_count": null,
      "metadata": {
        "colab": {
          "base_uri": "https://localhost:8080/",
          "height": 263
        },
        "id": "ivLbmsqjaqBg",
        "outputId": "76e1c99a-af35-4be3-ad03-31ecc6607ea3"
      },
      "outputs": [
        {
          "output_type": "error",
          "ename": "error",
          "evalue": "ignored",
          "traceback": [
            "\u001b[0;31m---------------------------------------------------------------------------\u001b[0m",
            "\u001b[0;31merror\u001b[0m                                     Traceback (most recent call last)",
            "\u001b[0;32m<ipython-input-30-6ea0489a87bc>\u001b[0m in \u001b[0;36m<module>\u001b[0;34m()\u001b[0m\n\u001b[1;32m      1\u001b[0m \u001b[0msvm\u001b[0m\u001b[0;34m=\u001b[0m\u001b[0mcv2\u001b[0m\u001b[0;34m.\u001b[0m\u001b[0mml\u001b[0m\u001b[0;34m.\u001b[0m\u001b[0mSVM_load\u001b[0m\u001b[0;34m(\u001b[0m\u001b[0;34m\"/content/drive/MyDrive/GP/emotion_data/opencv_withstandard_ThirdT_SetC_D_correctGa.xml\"\u001b[0m\u001b[0;34m)\u001b[0m\u001b[0;34m\u001b[0m\u001b[0;34m\u001b[0m\u001b[0m\n\u001b[0;32m----> 2\u001b[0;31m \u001b[0m_\u001b[0m\u001b[0;34m,\u001b[0m \u001b[0my_pred\u001b[0m \u001b[0;34m=\u001b[0m \u001b[0msvm\u001b[0m\u001b[0;34m.\u001b[0m\u001b[0mpredict\u001b[0m\u001b[0;34m(\u001b[0m\u001b[0mscale_test\u001b[0m\u001b[0;34m.\u001b[0m\u001b[0mastype\u001b[0m\u001b[0;34m(\u001b[0m\u001b[0mnp\u001b[0m\u001b[0;34m.\u001b[0m\u001b[0mfloat32\u001b[0m\u001b[0;34m)\u001b[0m\u001b[0;34m[\u001b[0m\u001b[0;36m0\u001b[0m\u001b[0;34m]\u001b[0m\u001b[0;34m)\u001b[0m\u001b[0;34m\u001b[0m\u001b[0;34m\u001b[0m\u001b[0m\n\u001b[0m\u001b[1;32m      3\u001b[0m \u001b[0my_pred\u001b[0m \u001b[0;34m=\u001b[0m \u001b[0my_pred\u001b[0m\u001b[0;34m.\u001b[0m\u001b[0mreshape\u001b[0m\u001b[0;34m(\u001b[0m\u001b[0;34m(\u001b[0m\u001b[0mlen\u001b[0m\u001b[0;34m(\u001b[0m\u001b[0mtesting_features\u001b[0m\u001b[0;34m)\u001b[0m\u001b[0;34m,\u001b[0m\u001b[0;34m)\u001b[0m\u001b[0;34m)\u001b[0m\u001b[0;34m.\u001b[0m\u001b[0mastype\u001b[0m\u001b[0;34m(\u001b[0m\u001b[0mnp\u001b[0m\u001b[0;34m.\u001b[0m\u001b[0mint\u001b[0m\u001b[0;34m)\u001b[0m\u001b[0;34m\u001b[0m\u001b[0;34m\u001b[0m\u001b[0m\n\u001b[1;32m      4\u001b[0m \u001b[0mreport\u001b[0m \u001b[0;34m=\u001b[0m \u001b[0mclassification_report\u001b[0m\u001b[0;34m(\u001b[0m\u001b[0my_test\u001b[0m\u001b[0;34m,\u001b[0m \u001b[0my_pred\u001b[0m\u001b[0;34m)\u001b[0m\u001b[0;34m\u001b[0m\u001b[0;34m\u001b[0m\u001b[0m\n\u001b[1;32m      5\u001b[0m \u001b[0mconf_matrix\u001b[0m \u001b[0;34m=\u001b[0m \u001b[0mconfusion_matrix\u001b[0m\u001b[0;34m(\u001b[0m\u001b[0my_test\u001b[0m\u001b[0;34m,\u001b[0m \u001b[0my_pred\u001b[0m\u001b[0;34m)\u001b[0m\u001b[0;34m\u001b[0m\u001b[0;34m\u001b[0m\u001b[0m\n",
            "\u001b[0;31merror\u001b[0m: OpenCV(4.1.2) /io/opencv/modules/ml/src/svm.cpp:2013: error: (-215:Assertion failed) samples.cols == var_count && samples.type() == CV_32F in function 'predict'\n"
          ]
        }
      ],
      "source": [
        "svm=cv2.ml.SVM_load(\"/content/drive/MyDrive/GP/emotion_data/opencv_withstandard_ThirdT_SetC_D_correctGa.xml\")\n",
        "_, y_pred = svm.predict(scale_test.astype(np.float32)[0])\n",
        "y_pred = y_pred.reshape((len(testing_features),)).astype(np.int)\n",
        "report = classification_report(y_test, y_pred)\n",
        "conf_matrix = confusion_matrix(y_test, y_pred)\n",
        "acc = accuracy_score(y_test, y_pred)\n",
        "print(\"*\"*10, \"Accuarcy = \", acc, \"*\"*10)\n",
        "print(\"*\"*30)\n",
        "print(report)\n",
        "print(\"*\"*30)\n",
        "print(conf_matrix)\n",
        "print(\"*\"*30)\n"
      ]
    },
    {
      "cell_type": "markdown",
      "metadata": {
        "id": "tBPzaGSGDgsF"
      },
      "source": [
        ""
      ]
    },
    {
      "cell_type": "code",
      "execution_count": null,
      "metadata": {
        "colab": {
          "background_save": true
        },
        "id": "AVqEwnz8odYb",
        "outputId": "18e41229-fc3a-4790-d389-845c314332da"
      },
      "outputs": [
        {
          "name": "stdout",
          "output_type": "stream",
          "text": [
            "trainning  1.0\n",
            "********** Accuarcy =  0.8789420142421159 **********\n",
            "******************************\n",
            "              precision    recall  f1-score   support\n",
            "\n",
            "           0       0.78      0.86      0.82       265\n",
            "           1       0.92      0.92      0.92       578\n",
            "           2       0.93      0.85      0.89        78\n",
            "           3       0.88      0.56      0.69        62\n",
            "\n",
            "    accuracy                           0.88       983\n",
            "   macro avg       0.88      0.80      0.83       983\n",
            "weighted avg       0.88      0.88      0.88       983\n",
            "\n",
            "******************************\n",
            "[[229  32   4   0]\n",
            " [ 40 534   0   4]\n",
            " [  8   3  66   1]\n",
            " [ 16  10   1  35]]\n",
            "******************************\n"
          ]
        }
      ],
      "source": [
        "#['neutral','happiness','surprise','sadness','anger','disgust','fear','contempt']\n",
        "clf, acc, report, conf_matrix = classifier_train(SVC(kernel='rbf', C=3, probability=True))"
      ]
    },
    {
      "cell_type": "code",
      "execution_count": null,
      "metadata": {
        "colab": {
          "background_save": true
        },
        "id": "jLUo_BiSuD2A"
      },
      "outputs": [],
      "source": [
        "from joblib import dump, load\n",
        "dump(clf, 'svm_acc_C3_LBPH_Bins_64_SVM_dataMoreThan7_rbf_weights_0_1_2_4_emotions_4_happay_sad_natural_surprised.joblib') \n",
        "!cp 'svm_acc_C3_LBPH_Bins_1_16_64_64_SVM_dataMoreThan7_rbf_weights_0_1_2_4.joblib' \"/content/drive/MyDrive/GP\""
      ]
    },
    {
      "cell_type": "code",
      "execution_count": null,
      "metadata": {
        "id": "BCi-NZm_n_w9"
      },
      "outputs": [],
      "source": [
        "!cp 'svm_acc_C3_LBPH_Bins_1_16_64_64_SVM_bins59_dataMoreThan7_rbf_weights_0_1_2_4.joblib' \"/content/drive/MyDrive/GP\""
      ]
    },
    {
      "cell_type": "markdown",
      "metadata": {
        "id": "xcZVHverVP7l"
      },
      "source": [
        "##tries"
      ]
    },
    {
      "cell_type": "code",
      "execution_count": null,
      "metadata": {
        "id": "LvGk6k1gI-_R"
      },
      "outputs": [],
      "source": [
        "from joblib import dump, load\n",
        "!cp  \"/content/drive/MyDrive/GP/Copy of svm_acc_C3_LBPH_Bins_64_SVM_bins59_dataMoreThan7_rbf_weights_0_1_2_4_emotions_4_happay_sad_natural_surprised.joblib\"  .\n",
        "clf=load(\"/content/Copy of svm_acc_C3_LBPH_Bins_64_SVM_bins59_dataMoreThan7_rbf_weights_0_1_2_4_emotions_4_happay_sad_natural_surprised.joblib\")"
      ]
    },
    {
      "cell_type": "code",
      "execution_count": null,
      "metadata": {
        "colab": {
          "base_uri": "https://localhost:8080/"
        },
        "id": "nx1UvRg6lKfB",
        "outputId": "af0a8095-d4b3-442d-8953-bd6a07903666"
      },
      "outputs": [
        {
          "data": {
            "text/plain": [
              "(13398, 2304)"
            ]
          },
          "execution_count": 88,
          "metadata": {},
          "output_type": "execute_result"
        }
      ],
      "source": [
        "clf[\"svc\"].support_vectors_.shape"
      ]
    },
    {
      "cell_type": "code",
      "execution_count": null,
      "metadata": {
        "id": "X9OcudRglpy4"
      },
      "outputs": [],
      "source": [
        "from bs4 import BeautifulSoup\n",
        "with open(\"/content/drive/MyDrive/GP/emotion_data/opencv_withstandard_ThirdT_SetC_D_correctGa.xml\") as f:\n",
        "  data = f.read()\n"
      ]
    },
    {
      "cell_type": "code",
      "execution_count": null,
      "metadata": {
        "id": "_xC0tF8MmADv"
      },
      "outputs": [],
      "source": [
        "bs_data = BeautifulSoup(data, \"xml\")"
      ]
    },
    {
      "cell_type": "code",
      "execution_count": null,
      "metadata": {
        "id": "muiwKXOnyqTk"
      },
      "outputs": [],
      "source": [
        "bs_data"
      ]
    },
    {
      "cell_type": "code",
      "execution_count": null,
      "metadata": {
        "colab": {
          "base_uri": "https://localhost:8080/"
        },
        "id": "xkdFcRxdmAAT",
        "outputId": "141e1cf5-2088-4faf-b667-3569431a62fe"
      },
      "outputs": [
        {
          "data": {
            "text/plain": [
              "<sv_count>7957</sv_count>"
            ]
          },
          "execution_count": 96,
          "metadata": {},
          "output_type": "execute_result"
        }
      ],
      "source": [
        "bs_data.find(\"sv_count\")"
      ]
    },
    {
      "cell_type": "code",
      "execution_count": null,
      "metadata": {
        "colab": {
          "base_uri": "https://localhost:8080/"
        },
        "id": "SD3iCLV_l_6F",
        "outputId": "f2dabf09-d262-4b81-eb7c-dfcd05866236"
      },
      "outputs": [
        {
          "data": {
            "text/plain": [
              "0.00048828124999999946"
            ]
          },
          "execution_count": 81,
          "metadata": {},
          "output_type": "execute_result"
        }
      ],
      "source": [
        "clf[\"svc\"]._gamma"
      ]
    },
    {
      "cell_type": "code",
      "execution_count": null,
      "metadata": {
        "id": "O_a2FTR-wp2o"
      },
      "outputs": [],
      "source": [
        "\n",
        "from joblib import dump, load\n",
        "!cp  \"/content/drive/MyDrive/svm_acc_LBPH_C3_normalize_each_H_SVM_withCropping_bins59_dataMoreThan7_rbf_CK+48.joblib\"  .\n",
        "clf=load(\"/content/svm_acc_LBPH_C3_normalize_each_H_SVM_withCropping_bins59_dataMoreThan7_rbf_CK+48.joblib\")"
      ]
    },
    {
      "cell_type": "code",
      "execution_count": null,
      "metadata": {
        "colab": {
          "base_uri": "https://localhost:8080/"
        },
        "id": "aRLMznV7U30i",
        "outputId": "3f56fdd0-0af7-496e-b7c8-833eeb78edbd"
      },
      "outputs": [
        {
          "name": "stdout",
          "output_type": "stream",
          "text": [
            "********** Accuarcy =  0.8476095617529881 **********\n",
            "******************************\n",
            "              precision    recall  f1-score   support\n",
            "\n",
            "           0       0.75      0.83      0.79       265\n",
            "           1       0.90      0.90      0.90       578\n",
            "           2       0.91      0.86      0.88        78\n",
            "           3       0.75      0.53      0.62        62\n",
            "           4       0.67      0.40      0.50        20\n",
            "           6       1.00      1.00      1.00         1\n",
            "\n",
            "    accuracy                           0.85      1004\n",
            "   macro avg       0.83      0.75      0.78      1004\n",
            "weighted avg       0.85      0.85      0.85      1004\n",
            "\n",
            "******************************\n",
            "[[220  37   4   4   0   0]\n",
            " [ 47 522   1   5   3   0]\n",
            " [  5   6  67   0   0   0]\n",
            " [ 17  10   1  33   1   0]\n",
            " [  6   3   1   2   8   0]\n",
            " [  0   0   0   0   0   1]]\n",
            "******************************\n"
          ]
        }
      ],
      "source": [
        "y_pred = clf.predict(testing_features)\n",
        "report = classification_report(y_test, y_pred)\n",
        "conf_matrix = confusion_matrix(y_test, y_pred)\n",
        "acc = accuracy_score(y_test, y_pred)\n",
        "print(\"*\"*10, \"Accuarcy = \", acc, \"*\"*10)\n",
        "print(\"*\"*30)\n",
        "print(report)\n",
        "print(\"*\"*30)\n",
        "print(conf_matrix)\n",
        "print(\"*\"*30)\n"
      ]
    },
    {
      "cell_type": "code",
      "execution_count": null,
      "metadata": {
        "colab": {
          "base_uri": "https://localhost:8080/"
        },
        "id": "Pceg-lOfszAP",
        "outputId": "643da6aa-c08a-49f5-b91f-0621ab6b5873"
      },
      "outputs": [
        {
          "data": {
            "text/plain": [
              "True"
            ]
          },
          "execution_count": 51,
          "metadata": {},
          "output_type": "execute_result"
        }
      ],
      "source": [
        "y_pred[9] in y_test[9]"
      ]
    },
    {
      "cell_type": "code",
      "execution_count": null,
      "metadata": {
        "colab": {
          "base_uri": "https://localhost:8080/",
          "height": 244
        },
        "id": "ABE4oehWVCRi",
        "outputId": "13bbaaa4-abf9-4f70-9b00-f18cf4a7f824"
      },
      "outputs": [
        {
          "ename": "TypeError",
          "evalue": "ignored",
          "output_type": "error",
          "traceback": [
            "\u001b[0;31m---------------------------------------------------------------------------\u001b[0m",
            "\u001b[0;31mTypeError\u001b[0m                                 Traceback (most recent call last)",
            "\u001b[0;32m<ipython-input-17-13b83255650e>\u001b[0m in \u001b[0;36m<module>\u001b[0;34m()\u001b[0m\n\u001b[1;32m      1\u001b[0m \u001b[0macc\u001b[0m\u001b[0;34m=\u001b[0m\u001b[0;36m0\u001b[0m\u001b[0;34m\u001b[0m\u001b[0;34m\u001b[0m\u001b[0m\n\u001b[1;32m      2\u001b[0m \u001b[0;32mfor\u001b[0m \u001b[0mi\u001b[0m \u001b[0;32min\u001b[0m \u001b[0mrange\u001b[0m\u001b[0;34m(\u001b[0m\u001b[0mlen\u001b[0m\u001b[0;34m(\u001b[0m\u001b[0my_pred\u001b[0m\u001b[0;34m)\u001b[0m\u001b[0;34m)\u001b[0m\u001b[0;34m:\u001b[0m\u001b[0;34m\u001b[0m\u001b[0;34m\u001b[0m\u001b[0m\n\u001b[0;32m----> 3\u001b[0;31m   \u001b[0;32mif\u001b[0m\u001b[0;34m(\u001b[0m\u001b[0my_pred\u001b[0m\u001b[0;34m[\u001b[0m\u001b[0mi\u001b[0m\u001b[0;34m]\u001b[0m \u001b[0;32min\u001b[0m \u001b[0my_test\u001b[0m\u001b[0;34m[\u001b[0m\u001b[0mi\u001b[0m\u001b[0;34m]\u001b[0m\u001b[0;34m)\u001b[0m\u001b[0;34m:\u001b[0m\u001b[0;34m\u001b[0m\u001b[0;34m\u001b[0m\u001b[0m\n\u001b[0m\u001b[1;32m      4\u001b[0m     \u001b[0macc\u001b[0m\u001b[0;34m+=\u001b[0m\u001b[0;36m1\u001b[0m\u001b[0;34m\u001b[0m\u001b[0;34m\u001b[0m\u001b[0m\n\u001b[1;32m      5\u001b[0m \u001b[0macc\u001b[0m\u001b[0;34m/\u001b[0m\u001b[0mlen\u001b[0m\u001b[0;34m(\u001b[0m\u001b[0my_pred\u001b[0m\u001b[0;34m)\u001b[0m\u001b[0;34m\u001b[0m\u001b[0;34m\u001b[0m\u001b[0m\n",
            "\u001b[0;31mTypeError\u001b[0m: argument of type 'int' is not iterable"
          ]
        }
      ],
      "source": [
        "acc=0\n",
        "for i in range(len(y_pred)):\n",
        "  if(y_pred[i] in y_test[i]):\n",
        "    acc+=1\n",
        "acc/len(y_pred)\n",
        "\n",
        "#len(X_test),len(y_test)"
      ]
    },
    {
      "cell_type": "code",
      "execution_count": null,
      "metadata": {
        "id": "rArQFJMUVDtv"
      },
      "outputs": [],
      "source": [
        "from joblib import dump, load\n",
        "!cp  \"/content/drive/MyDrive/svm_acc_LBPH_C3_normalize_each_H_SVM_withCropping_bins59_datalargerequal8_rbf.joblib\"  .\n",
        "clf=load(\"/content/svm_acc_LBPH_C3_normalize_each_H_SVM_withCropping_bins59_datalargerequal8_rbf.joblib\")"
      ]
    },
    {
      "cell_type": "code",
      "execution_count": null,
      "metadata": {
        "colab": {
          "base_uri": "https://localhost:8080/",
          "height": 244
        },
        "id": "hblWgTjoVDtw",
        "outputId": "84d6528a-03c5-4ac9-b88f-0cf38d2b7ac0"
      },
      "outputs": [
        {
          "ename": "NameError",
          "evalue": "ignored",
          "output_type": "error",
          "traceback": [
            "\u001b[0;31m---------------------------------------------------------------------------\u001b[0m",
            "\u001b[0;31mNameError\u001b[0m                                 Traceback (most recent call last)",
            "\u001b[0;32m<ipython-input-18-17a8e4c2f39a>\u001b[0m in \u001b[0;36m<module>\u001b[0;34m()\u001b[0m\n\u001b[1;32m      1\u001b[0m \u001b[0my_pred\u001b[0m \u001b[0;34m=\u001b[0m \u001b[0mclf\u001b[0m\u001b[0;34m.\u001b[0m\u001b[0mpredict\u001b[0m\u001b[0;34m(\u001b[0m\u001b[0mtesting_features\u001b[0m\u001b[0;34m)\u001b[0m\u001b[0;34m\u001b[0m\u001b[0;34m\u001b[0m\u001b[0m\n\u001b[0;32m----> 2\u001b[0;31m \u001b[0mreport\u001b[0m \u001b[0;34m=\u001b[0m \u001b[0mclassification_report\u001b[0m\u001b[0;34m(\u001b[0m\u001b[0my_test\u001b[0m\u001b[0;34m,\u001b[0m \u001b[0my_pred\u001b[0m\u001b[0;34m)\u001b[0m\u001b[0;34m\u001b[0m\u001b[0;34m\u001b[0m\u001b[0m\n\u001b[0m\u001b[1;32m      3\u001b[0m \u001b[0mconf_matrix\u001b[0m \u001b[0;34m=\u001b[0m \u001b[0mconfusion_matrix\u001b[0m\u001b[0;34m(\u001b[0m\u001b[0my_test\u001b[0m\u001b[0;34m,\u001b[0m \u001b[0my_pred\u001b[0m\u001b[0;34m)\u001b[0m\u001b[0;34m\u001b[0m\u001b[0;34m\u001b[0m\u001b[0m\n\u001b[1;32m      4\u001b[0m \u001b[0macc\u001b[0m \u001b[0;34m=\u001b[0m \u001b[0maccuracy_score\u001b[0m\u001b[0;34m(\u001b[0m\u001b[0my_test\u001b[0m\u001b[0;34m,\u001b[0m \u001b[0my_pred\u001b[0m\u001b[0;34m)\u001b[0m\u001b[0;34m\u001b[0m\u001b[0;34m\u001b[0m\u001b[0m\n\u001b[1;32m      5\u001b[0m \u001b[0mprint\u001b[0m\u001b[0;34m(\u001b[0m\u001b[0;34m\"*\"\u001b[0m\u001b[0;34m*\u001b[0m\u001b[0;36m10\u001b[0m\u001b[0;34m,\u001b[0m \u001b[0;34m\"Accuarcy = \"\u001b[0m\u001b[0;34m,\u001b[0m \u001b[0macc\u001b[0m\u001b[0;34m,\u001b[0m \u001b[0;34m\"*\"\u001b[0m\u001b[0;34m*\u001b[0m\u001b[0;36m10\u001b[0m\u001b[0;34m)\u001b[0m\u001b[0;34m\u001b[0m\u001b[0;34m\u001b[0m\u001b[0m\n",
            "\u001b[0;31mNameError\u001b[0m: name 'classification_report' is not defined"
          ]
        }
      ],
      "source": [
        "y_pred = clf.predict(testing_features)\n",
        "report = classification_report(y_test, y_pred)\n",
        "conf_matrix = confusion_matrix(y_test, y_pred)\n",
        "acc = accuracy_score(y_test, y_pred)\n",
        "print(\"*\"*10, \"Accuarcy = \", acc, \"*\"*10)\n",
        "print(\"*\"*30)\n",
        "print(report)\n",
        "print(\"*\"*30)\n",
        "print(conf_matrix)\n",
        "print(\"*\"*30)"
      ]
    },
    {
      "cell_type": "code",
      "execution_count": null,
      "metadata": {
        "id": "BWY7aRMmVCrv"
      },
      "outputs": [],
      "source": [
        "from joblib import dump, load\n",
        "!cp  \"/content/drive/MyDrive/svm_acc_LBPH_C3_normalize_each_H_SVM_withCropping_bins59_dataMoreThan5.joblib\"  .\n",
        "clf=load(\"/content/svm_acc_LBPH_C3_normalize_each_H_SVM_withCropping_bins59_dataMoreThan5.joblib\")"
      ]
    },
    {
      "cell_type": "code",
      "execution_count": null,
      "metadata": {
        "colab": {
          "base_uri": "https://localhost:8080/"
        },
        "id": "LWiA00-5VCrw",
        "outputId": "ec6acb69-9bd8-407a-a2a5-fa2c33c91ea6"
      },
      "outputs": [
        {
          "name": "stdout",
          "output_type": "stream",
          "text": [
            "********** Accuarcy =  0.8396414342629482 **********\n",
            "******************************\n",
            "              precision    recall  f1-score   support\n",
            "\n",
            "           0       0.72      0.86      0.79       265\n",
            "           1       0.91      0.88      0.89       578\n",
            "           2       0.89      0.86      0.88        78\n",
            "           3       0.70      0.53      0.61        62\n",
            "           4       0.80      0.40      0.53        20\n",
            "           6       1.00      1.00      1.00         1\n",
            "\n",
            "    accuracy                           0.84      1004\n",
            "   macro avg       0.84      0.75      0.78      1004\n",
            "weighted avg       0.84      0.84      0.84      1004\n",
            "\n",
            "******************************\n",
            "[[228  29   4   4   0   0]\n",
            " [ 59 506   2   9   2   0]\n",
            " [  6   4  67   1   0   0]\n",
            " [ 16  12   1  33   0   0]\n",
            " [  6   5   1   0   8   0]\n",
            " [  0   0   0   0   0   1]]\n",
            "******************************\n"
          ]
        }
      ],
      "source": [
        "y_pred = clf.predict(testing_features)\n",
        "report = classification_report(y_test, y_pred)\n",
        "conf_matrix = confusion_matrix(y_test, y_pred)\n",
        "acc = accuracy_score(y_test, y_pred)\n",
        "print(\"*\"*10, \"Accuarcy = \", acc, \"*\"*10)\n",
        "print(\"*\"*30)\n",
        "print(report)\n",
        "print(\"*\"*30)\n",
        "print(conf_matrix)\n",
        "print(\"*\"*30)"
      ]
    },
    {
      "cell_type": "markdown",
      "metadata": {
        "id": "SdfRdvWFMH81"
      },
      "source": [
        "# Tries"
      ]
    },
    {
      "cell_type": "code",
      "execution_count": null,
      "metadata": {
        "id": "uadCwWqvMLQC"
      },
      "outputs": [],
      "source": [
        "from joblib import dump, load\n",
        "!cp  \"/content/drive/MyDrive/GP/emotion_data/fer2013plus/best_18-5_svm_acc_71%_test_LBPH_C10_normalize_each_H_SVM_withCropping.joblib\"  .\n",
        "clf=load(\"/content/best_18-5_svm_acc_71%_test_LBPH_C10_normalize_each_H_SVM_withCropping.joblib\")\n",
        "\n",
        "# y_pred = clf.predict(training_features)\n",
        "report = classification_report(y_train, y_pred)\n",
        "conf_matrix = confusion_matrix(y_train, y_pred)\n",
        "acc = accuracy_score(y_train, y_pred)\n",
        "print(\"*\"*10, \"Accuarcy = \", acc, \"*\"*10)\n",
        "print(\"*\"*30)\n",
        "print(report)\n",
        "print(\"*\"*30)\n",
        "print(conf_matrix)\n",
        "print(\"*\"*30)"
      ]
    },
    {
      "cell_type": "code",
      "execution_count": null,
      "metadata": {
        "id": "csabuiizT9rs"
      },
      "outputs": [],
      "source": [
        "np.where(y_pred!=y_train)"
      ]
    },
    {
      "cell_type": "code",
      "execution_count": null,
      "metadata": {
        "colab": {
          "background_save": true
        },
        "id": "LWd_WGz-UPXi"
      },
      "outputs": [],
      "source": [
        "cv2_imshow(X_train[22785])\n",
        "y_train[22785],y_pred[22785],name_train[22785],emotion_data_new.iloc[22758]"
      ]
    },
    {
      "cell_type": "code",
      "execution_count": null,
      "metadata": {
        "id": "sjX6fOoPWpbQ"
      },
      "outputs": [],
      "source": [
        "cv2_imshow(X_train[21253])\n",
        "y_train[21253],y_pred[21253]"
      ]
    },
    {
      "cell_type": "markdown",
      "metadata": {
        "id": "-mlS-JM5S3m6"
      },
      "source": [
        "# traing images from my gallery"
      ]
    },
    {
      "cell_type": "code",
      "execution_count": null,
      "metadata": {
        "id": "t329VRGMNQdX"
      },
      "outputs": [],
      "source": [
        "from PIL import Image\n",
        "size = (48,48)\n",
        "im = Image.open(\"/content/eeeyeyeey.PNG\")\n",
        "im_resized = im.resize(size, Image.ANTIALIAS)\n",
        "im_resized.save(\"my_image_resized.png\", \"PNG\")"
      ]
    },
    {
      "cell_type": "code",
      "execution_count": null,
      "metadata": {
        "id": "K8BIluUFXnoN"
      },
      "outputs": [],
      "source": [
        ""
      ]
    },
    {
      "cell_type": "code",
      "execution_count": null,
      "metadata": {
        "id": "hYNYUtRSKAlP",
        "colab": {
          "base_uri": "https://localhost:8080/",
          "height": 177
        },
        "outputId": "0bee3ca2-90c4-4c66-d9a7-38f212e4b41b"
      },
      "outputs": [
        {
          "output_type": "stream",
          "name": "stderr",
          "text": [
            "/usr/local/lib/python3.7/dist-packages/ipykernel_launcher.py:4: FutureWarning: Non RGB image conversion is now deprecated. For RGBA images, please use rgb2gray(rgba2rgb(rgb)) instead. In version 0.19, a ValueError will be raised if input image last dimension length is not 3.\n",
            "  after removing the cwd from sys.path.\n"
          ]
        },
        {
          "output_type": "stream",
          "name": "stdout",
          "text": [
            "(48, 48)\n"
          ]
        },
        {
          "output_type": "stream",
          "name": "stderr",
          "text": [
            "/usr/local/lib/python3.7/dist-packages/ipykernel_launcher.py:17: VisibleDeprecationWarning: Creating an ndarray from ragged nested sequences (which is a list-or-tuple of lists-or-tuples-or ndarrays with different lengths or shapes) is deprecated. If you meant to do this, you must specify 'dtype=object' when creating the ndarray.\n"
          ]
        },
        {
          "output_type": "display_data",
          "data": {
            "text/plain": [
              "<PIL.Image.Image image mode=L size=48x48 at 0x7FE43EFE7D50>"
            ],
            "image/png": "[encoded data removed]"
          },
          "metadata": {}
        },
        {
          "output_type": "execute_result",
          "data": {
            "text/plain": [
              "'happiness'"
            ],
            "application/vnd.google.colaboratory.intrinsic+json": {
              "type": "string"
            }
          },
          "metadata": {},
          "execution_count": 33
        }
      ],
      "source": [
        "from skimage import color\n",
        "from skimage import io\n",
        "\n",
        "img = color.rgb2gray(io.imread('/content/my_image_resized.png'))*255\n",
        "\n",
        "print(img.shape)\n",
        "svm=cv2.ml.SVM_load(\"/content/drive/MyDrive/GP/emotion_data/opencv_withstandard_ThirdT_SetC_D_correctGa.xml\")\n",
        "\n",
        "_, y_pred = svm.predict(scaler.transform(np.array([getLBPH(img,6)])).astype(np.float32))\n",
        "cv2_imshow(img)\n",
        "emotions[int(y_pred[0][0])]"
      ]
    },
    {
      "cell_type": "code",
      "execution_count": null,
      "metadata": {
        "id": "_0KUxaV4uATY"
      },
      "outputs": [],
      "source": [
        ""
      ]
    },
    {
      "cell_type": "code",
      "execution_count": null,
      "metadata": {
        "id": "IZ9_IAoCvvIP"
      },
      "outputs": [],
      "source": [
        "y_pred = clf.predict(testing_features)\n",
        "report = classification_report(y_test, y_pred)\n",
        "conf_matrix = confusion_matrix(y_test, y_pred)\n",
        "acc = accuracy_score(y_test, y_pred)\n",
        "print(\"*\"*10, \"Accuarcy = \", acc, \"*\"*10)\n",
        "print(\"*\"*30)\n",
        "print(report)\n",
        "print(\"*\"*30)\n",
        "print(conf_matrix)\n",
        "print(\"*\"*30)"
      ]
    },
    {
      "cell_type": "markdown",
      "metadata": {
        "id": "YpgdUeKgd_Cp"
      },
      "source": [
        "# tryings"
      ]
    },
    {
      "cell_type": "code",
      "execution_count": null,
      "metadata": {
        "id": "n2TB7U6xeB1F"
      },
      "outputs": [],
      "source": [
        "l=48\n",
        "w=48\n",
        "r=2\n",
        "LBPH = cv2.face.LBPHFaceRecognizer_create(2,8,8,8) #Initialize LBPH face classifier\n",
        "print( \"training LBPH face classifier\")\n",
        "print (\"size of training set is:\", len(y_train), \"images\")\n",
        "\n",
        "LBPH.train(X_train[0:100], np.asarray(y_train)[0:100])\n",
        "print (\"predicting classification set\")\n",
        "cnt = 0\n",
        "correct = 0\n",
        "incorrect = 0"
      ]
    },
    {
      "cell_type": "code",
      "execution_count": null,
      "metadata": {
        "id": "HCbPcucLTlAB"
      },
      "outputs": [],
      "source": [
        "LBPH.getHistograms()[0][0]*== training_features[0]"
      ]
    },
    {
      "cell_type": "code",
      "execution_count": null,
      "metadata": {
        "id": "WBWMppGnmDVR"
      },
      "outputs": [],
      "source": [
        "cnt = 0\n",
        "correct = 0\n",
        "incorrect = 0\n",
        "for image in X_test:\n",
        "    pred, conf = LBPH.predict(image)\n",
        "    if np.any(np.array(y_test[cnt])==pred):\n",
        "        correct += 1\n",
        "        cnt += 1\n",
        "    else:\n",
        "        incorrect += 1\n",
        "        cnt += 1\n",
        "print(correct,incorrect,((100*correct)/(correct + incorrect)))"
      ]
    },
    {
      "cell_type": "code",
      "execution_count": null,
      "metadata": {
        "id": "Auki4v-eeFVj"
      },
      "outputs": [],
      "source": [
        "LBP_image=local_binary_pattern(X_train[11], 8,2)\n",
        "LBP_image=LBP_image[r:l-r,r:w-r]\n",
        "LBP_image\n",
        "LBP_hist=[np.histogram(LBP_image[i*int((l-2*r)/8):(i+1)*int((l-2*r)/8),j*int((w-2*r)/8):(j+1)*int((w-2*r)/8)].ravel(),bins=256,range=(0,255))  \n",
        "for i in range(8)for j in range(8)]\n",
        "LBP_hist=np.array([item[0]/np.sum(item[0]) if np.sum(item[0]) else item[0] for i, item in enumerate(LBP_hist)]).ravel()\n",
        " "
      ]
    },
    {
      "cell_type": "code",
      "execution_count": null,
      "metadata": {
        "id": "pLZKsYwEEVel"
      },
      "outputs": [],
      "source": [
        "training_features"
      ]
    },
    {
      "cell_type": "code",
      "execution_count": null,
      "metadata": {
        "id": "ELGk6nHEEUHN"
      },
      "outputs": [],
      "source": [
        "LBP_hist[256:256*2]"
      ]
    },
    {
      "cell_type": "code",
      "execution_count": null,
      "metadata": {
        "id": "apY7_ZK3AZtz"
      },
      "outputs": [],
      "source": [
        "np.array(training_features*1000,dtype=int)[0:14]==np.array(LBPH.getHistograms()*1000,dtype=int)[0:14]"
      ]
    },
    {
      "cell_type": "code",
      "execution_count": null,
      "metadata": {
        "id": "ThngPEVMnXpq"
      },
      "outputs": [],
      "source": [
        "training_features[11],LBPH.getHistograms()[11][0]"
      ]
    },
    {
      "cell_type": "code",
      "execution_count": null,
      "metadata": {
        "id": "Q0fKEWoZeKSW"
      },
      "outputs": [],
      "source": [
        "LBP_hist=np.histogram(LBP_image.ravel(),bins=256) \n",
        "#LBP_hist=np.array([item[0] for item in LBP_hist]).ravel()\n",
        "LBP_hist=LBP_hist[0]/np.sum(LBP_hist[0])\n",
        "np.sum(LBP_hist[0])\n",
        "np.sum(LBP_hist[0]/np.sum(LBP_hist[0])),np.sum(LBPH.getHistograms()[0])\n",
        "LBPH.getHistograms()[0][0],LBP_hist"
      ]
    },
    {
      "cell_type": "markdown",
      "metadata": {
        "id": "zyHgqnDXjAtX"
      },
      "source": [
        ""
      ]
    },
    {
      "cell_type": "code",
      "execution_count": null,
      "metadata": {
        "id": "TfPipQg_eTII"
      },
      "outputs": [],
      "source": [
        "LBP_hist[0]\n"
      ]
    },
    {
      "cell_type": "code",
      "execution_count": null,
      "metadata": {
        "id": "4q4OlbC3eUDy"
      },
      "outputs": [],
      "source": [
        "LBPH.getHistograms()[0][0][0:256]"
      ]
    },
    {
      "cell_type": "code",
      "execution_count": null,
      "metadata": {
        "id": "qdP1w5anfdjD"
      },
      "outputs": [],
      "source": [
        "LBPH."
      ]
    }
  ],
  "metadata": {
    "colab": {
      "collapsed_sections": [
        "QOG81TS26ec_",
        "7TGoaWu_CNqF",
        "pidNg1bgGxfe"
      ],
      "name": "best-LBP.ipynb",
      "provenance": []
    },
    "kernelspec": {
      "display_name": "Python 3",
      "name": "python3"
    },
    "language_info": {
      "name": "python"
    }
  },
  "nbformat": 4,
  "nbformat_minor": 0
}